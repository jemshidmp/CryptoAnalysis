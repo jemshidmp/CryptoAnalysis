{
  "nbformat": 4,
  "nbformat_minor": 0,
  "metadata": {
    "colab": {
      "name": "Volume_Trend_Module_v0.1.ipynb",
      "provenance": [],
      "collapsed_sections": []
    },
    "kernelspec": {
      "name": "python3",
      "display_name": "Python 3"
    },
    "language_info": {
      "name": "python"
    },
    "widgets": {
      "application/vnd.jupyter.widget-state+json": {
        "b77f53786aa74a2684cb8f4ebc2a0a2e": {
          "model_module": "@jupyter-widgets/controls",
          "model_name": "DropdownModel",
          "model_module_version": "1.5.0",
          "state": {
            "_options_labels": [
              "Tether",
              "Bitcoin",
              "TRON",
              "XRP",
              "EOS",
              "Ethereum",
              "ICON",
              "Litecoin",
              "TrueUSD",
              "Hydro Protocol",
              "Basic Attention Token",
              "Dash",
              "Nucleus Vision",
              "QuarkChain",
              "Zilliqa",
              "0x",
              "Bitcoin Cash",
              "USD Coin",
              "OMG Network",
              "FarmPoly",
              "Dent",
              "IOST",
              "FUNToken",
              "Status",
              "THETA",
              "Request",
              "Stellar",
              "Tezos",
              "BitTorrent",
              "Fetch.ai",
              "Theta Fuel",
              "Celer Network",
              "Polygon",
              "Cardano",
              "Ravencoin",
              "Monero",
              "Cosmos",
              "Algorand",
              "Chainlink",
              "Qtum",
              "Ethereum Classic",
              "Zcash",
              "Waves",
              "Fantom",
              "Enjin Coin",
              "Lisk",
              "Steem",
              "Verge",
              "Loom Network",
              "Decentraland",
              "Augur",
              "Bluzelle",
              "Nano",
              "Siacoin",
              "Bitcoin Gold",
              "NEM",
              "BitShares",
              "Ardor",
              "Nebulas",
              "WINkLink",
              "Binance Coin",
              "Chiliz",
              "WazirX",
              "Kava",
              "Ankr",
              "Binance USD",
              "BigONE Token",
              "Origin Protocol",
              "Hive",
              "FTX Token",
              "Band Protocol",
              "JUST",
              "Cartesi",
              "Chromia",
              "TomoChain",
              "Stox",
              "StormX",
              "Measurable Data Token",
              "LTO Network",
              "Loopring",
              "Dogecoin",
              "Neo",
              "Hedera",
              "Storj",
              "Compound Coin",
              "COTI",
              "DigiByte",
              "Groestlcoin",
              "Synthetix",
              "Ren",
              "Swipe",
              "Maker",
              "Dai",
              "Travala.com",
              "Balancer",
              "Serum",
              "Elrond",
              "Contentos",
              "New BitShares",
              "Aion",
              "Polkadot",
              "yearn.finance",
              "IoTeX",
              "The Sandbox",
              "UNICORN Token",
              "Streamr",
              "PAX Gold",
              "Cream Finance",
              "Swerve",
              "UMA",
              "DIA",
              "Kusama",
              "DFI.Money",
              "bZx Protocol",
              "Tellor",
              "Ambire AdEx",
              "Aave",
              "Filecoin",
              "Curve DAO Token",
              "NEAR Protocol",
              "Helium",
              "Avalanche",
              "Orchid",
              "Dock",
              "Dusk Network",
              "Waltonchain",
              "PERL.eco",
              "Stratis",
              "Injective Protocol",
              "VeChain",
              "Metal",
              "Frontier",
              "Golem",
              "SushiSwap",
              "Firo",
              "DeXe",
              "Golden Ratio Token",
              "Bancor",
              "Reserve Rights",
              "1inch Network",
              "Luna Coin",
              "UniLend",
              "Pundi X[new]",
              "Nervos Network",
              "Viberate",
              "Gifto",
              "Toko Token",
              "Ethereum Push Notification Service",
              "Civic",
              "PancakeSwap",
              "EasyFi",
              "Ark",
              "Komodo",
              "Solana",
              "SHIBA INU",
              "iExec RLC",
              "Reef",
              "Internet Computer",
              "Ontology",
              "Penta",
              "Venus",
              "VITE",
              "Decred",
              "Mdex",
              "Phala Network",
              "THORChain (ERC20)",
              "MIR COIN",
              "NKN",
              "district0x",
              "Keep Network",
              "Axie Infinity",
              "Alpha Finance Lab",
              "MyNeighborAlice",
              "Klaytn",
              "eCash",
              "Perpetual Protocol",
              "Quant",
              "Flow",
              "Voyager Token",
              "Arweave",
              "Raydium",
              "DODO",
              "Mina",
              "Clover Finance",
              "BakeryToken",
              "Alpaca Finance",
              "USDP Stablecoin",
              "Gnosis",
              "Alien Worlds",
              "Audius",
              "SKALE Network",
              "MOBOX",
              "Dego Finance",
              "Gala",
              "NFTX Hashmasks Index",
              "MetaFace",
              "Marlin",
              "Illuvium",
              "Enzyme",
              "dYdX",
              "Conflux",
              "Standard Tokenization Protocol",
              "Radicle",
              "Burger Swap",
              "Bitcoin Diamond",
              "Oasis Network",
              "Secret",
              "Syscoin",
              "Adventure Gold",
              "KEY",
              "SuperRare",
              "Sun (New)",
              "Smooth Love Potion",
              "NuCypher",
              "Bounce Token",
              "Automata Network",
              "Ocean Protocol",
              "SuperCoin",
              "Beta Finance",
              "Cocos-BCX",
              "WAX",
              "Bitcoin Cash SV",
              "MIOTA",
              "GXChain"
            ],
            "_view_name": "DropdownView",
            "style": "IPY_MODEL_0b57a4b9c6894193bce72484f11146a0",
            "_dom_classes": [],
            "description": "Select Coin: ",
            "_model_name": "DropdownModel",
            "index": 88,
            "_view_module": "@jupyter-widgets/controls",
            "_model_module_version": "1.5.0",
            "_view_count": null,
            "disabled": false,
            "_view_module_version": "1.5.0",
            "description_tooltip": null,
            "_model_module": "@jupyter-widgets/controls",
            "layout": "IPY_MODEL_470951263f114f6d84d32d9c63abcf92"
          }
        },
        "0b57a4b9c6894193bce72484f11146a0": {
          "model_module": "@jupyter-widgets/controls",
          "model_name": "DescriptionStyleModel",
          "model_module_version": "1.5.0",
          "state": {
            "_view_name": "StyleView",
            "_model_name": "DescriptionStyleModel",
            "description_width": "",
            "_view_module": "@jupyter-widgets/base",
            "_model_module_version": "1.5.0",
            "_view_count": null,
            "_view_module_version": "1.2.0",
            "_model_module": "@jupyter-widgets/controls"
          }
        },
        "470951263f114f6d84d32d9c63abcf92": {
          "model_module": "@jupyter-widgets/base",
          "model_name": "LayoutModel",
          "model_module_version": "1.2.0",
          "state": {
            "_view_name": "LayoutView",
            "grid_template_rows": null,
            "right": null,
            "justify_content": null,
            "_view_module": "@jupyter-widgets/base",
            "overflow": null,
            "_model_module_version": "1.2.0",
            "_view_count": null,
            "flex_flow": null,
            "width": null,
            "min_width": null,
            "border": null,
            "align_items": null,
            "bottom": null,
            "_model_module": "@jupyter-widgets/base",
            "top": null,
            "grid_column": null,
            "overflow_y": null,
            "overflow_x": null,
            "grid_auto_flow": null,
            "grid_area": null,
            "grid_template_columns": null,
            "flex": null,
            "_model_name": "LayoutModel",
            "justify_items": null,
            "grid_row": null,
            "max_height": null,
            "align_content": null,
            "visibility": null,
            "align_self": null,
            "height": null,
            "min_height": null,
            "padding": null,
            "grid_auto_rows": null,
            "grid_gap": null,
            "max_width": null,
            "order": null,
            "_view_module_version": "1.2.0",
            "grid_template_areas": null,
            "object_position": null,
            "object_fit": null,
            "grid_auto_columns": null,
            "margin": null,
            "display": null,
            "left": null
          }
        },
        "0956b11872fe4aa2b0eb8a10956399f5": {
          "model_module": "@jupyter-widgets/controls",
          "model_name": "DropdownModel",
          "model_module_version": "1.5.0",
          "state": {
            "_options_labels": [
              "HOURLY",
              "DAILY",
              "MONTHLY"
            ],
            "_view_name": "DropdownView",
            "style": "IPY_MODEL_5a86f7ed463b4dd0a82eb40b45401116",
            "_dom_classes": [],
            "description": "Select Frequency: ",
            "_model_name": "DropdownModel",
            "index": 2,
            "_view_module": "@jupyter-widgets/controls",
            "_model_module_version": "1.5.0",
            "_view_count": null,
            "disabled": false,
            "_view_module_version": "1.5.0",
            "description_tooltip": null,
            "_model_module": "@jupyter-widgets/controls",
            "layout": "IPY_MODEL_2cd8f86c91a642e1ad2d1dc30d6a7238"
          }
        },
        "5a86f7ed463b4dd0a82eb40b45401116": {
          "model_module": "@jupyter-widgets/controls",
          "model_name": "DescriptionStyleModel",
          "model_module_version": "1.5.0",
          "state": {
            "_view_name": "StyleView",
            "_model_name": "DescriptionStyleModel",
            "description_width": "",
            "_view_module": "@jupyter-widgets/base",
            "_model_module_version": "1.5.0",
            "_view_count": null,
            "_view_module_version": "1.2.0",
            "_model_module": "@jupyter-widgets/controls"
          }
        },
        "2cd8f86c91a642e1ad2d1dc30d6a7238": {
          "model_module": "@jupyter-widgets/base",
          "model_name": "LayoutModel",
          "model_module_version": "1.2.0",
          "state": {
            "_view_name": "LayoutView",
            "grid_template_rows": null,
            "right": null,
            "justify_content": null,
            "_view_module": "@jupyter-widgets/base",
            "overflow": null,
            "_model_module_version": "1.2.0",
            "_view_count": null,
            "flex_flow": null,
            "width": null,
            "min_width": null,
            "border": null,
            "align_items": null,
            "bottom": null,
            "_model_module": "@jupyter-widgets/base",
            "top": null,
            "grid_column": null,
            "overflow_y": null,
            "overflow_x": null,
            "grid_auto_flow": null,
            "grid_area": null,
            "grid_template_columns": null,
            "flex": null,
            "_model_name": "LayoutModel",
            "justify_items": null,
            "grid_row": null,
            "max_height": null,
            "align_content": null,
            "visibility": null,
            "align_self": null,
            "height": null,
            "min_height": null,
            "padding": null,
            "grid_auto_rows": null,
            "grid_gap": null,
            "max_width": null,
            "order": null,
            "_view_module_version": "1.2.0",
            "grid_template_areas": null,
            "object_position": null,
            "object_fit": null,
            "grid_auto_columns": null,
            "margin": null,
            "display": null,
            "left": null
          }
        }
      }
    }
  },
  "cells": [
    {
      "cell_type": "code",
      "metadata": {
        "colab": {
          "base_uri": "https://localhost:8080/"
        },
        "id": "RYEI9WInaNhf",
        "outputId": "baff3b77-e268-4a61-8036-22ee54f79291",
        "cellView": "form"
      },
      "source": [
        "#@title Configuration\n",
        "from google.colab import drive\n",
        "import os\n",
        "drive.mount('/content/drive')\n",
        "!apt-get install openjdk-8-jdk-headless -qq > /dev/null\n",
        "!tar xf /content/drive/Shareddrives/DA231-2021-Aug-Public/spark-3.0.3-bin-hadoop2.7.tgz\n",
        "!pip install -q findspark\n",
        "os.environ[\"JAVA_HOME\"] = \"/usr/lib/jvm/java-8-openjdk-amd64\"\n",
        "os.environ[\"SPARK_HOME\"] = \"/content/spark-3.0.3-bin-hadoop2.7\"\n"
      ],
      "execution_count": 1,
      "outputs": [
        {
          "output_type": "stream",
          "name": "stdout",
          "text": [
            "Mounted at /content/drive\n"
          ]
        }
      ]
    },
    {
      "cell_type": "code",
      "metadata": {
        "colab": {
          "base_uri": "https://localhost:8080/",
          "height": 219
        },
        "id": "AQvjYyzJa7Cw",
        "outputId": "2103ca62-3d68-48b9-df1f-a85446715877"
      },
      "source": [
        "#@title Initialization { display-mode: \"both\" }\n",
        "import findspark\n",
        "findspark.init()\n",
        "findspark.find()\n",
        "from pyspark.sql import SparkSession\n",
        "spark = SparkSession.builder\\\n",
        "         .master(\"local\")\\\n",
        "         .appName(\"Colab\")\\\n",
        "         .config('spark.ui.port', '4050')\\\n",
        "         .getOrCreate()\n",
        "spark"
      ],
      "execution_count": 2,
      "outputs": [
        {
          "output_type": "execute_result",
          "data": {
            "text/html": [
              "\n",
              "            <div>\n",
              "                <p><b>SparkSession - in-memory</b></p>\n",
              "                \n",
              "        <div>\n",
              "            <p><b>SparkContext</b></p>\n",
              "\n",
              "            <p><a href=\"http://e5c2546c9cdc:4050\">Spark UI</a></p>\n",
              "\n",
              "            <dl>\n",
              "              <dt>Version</dt>\n",
              "                <dd><code>v3.0.3</code></dd>\n",
              "              <dt>Master</dt>\n",
              "                <dd><code>local</code></dd>\n",
              "              <dt>AppName</dt>\n",
              "                <dd><code>Colab</code></dd>\n",
              "            </dl>\n",
              "        </div>\n",
              "        \n",
              "            </div>\n",
              "        "
            ],
            "text/plain": [
              "<pyspark.sql.session.SparkSession at 0x7efc23e107d0>"
            ]
          },
          "metadata": {},
          "execution_count": 2
        }
      ]
    },
    {
      "cell_type": "code",
      "metadata": {
        "id": "LdSo3YnBx7VA",
        "cellView": "form"
      },
      "source": [
        "#@title Common Imports\n",
        "from pyspark import SparkContext, SparkConf\n",
        "import sys\n",
        "import json\n",
        "import pyspark.sql.functions as F\n",
        "sc = SparkContext.getOrCreate()\n",
        "from pyspark.sql.window import Window\n",
        "import matplotlib.pyplot as plt\n",
        "import numpy as np\n",
        "\n",
        "from ipywidgets import widgets\n",
        "from IPython.display import display"
      ],
      "execution_count": 3,
      "outputs": []
    },
    {
      "cell_type": "markdown",
      "metadata": {
        "id": "3Buw8_851bJc"
      },
      "source": [
        "File path, Folder ID, Constants and other related information"
      ]
    },
    {
      "cell_type": "code",
      "metadata": {
        "id": "z81gqu7Sa-y3",
        "cellView": "form"
      },
      "source": [
        "#@title File path, Folder ID, Constants\n",
        "drivepath = \"/content/drive/Shareddrives/ProjectSharedDrive/wazirxCSVData\"\n",
        "driveDAILYpath = \"/content/drive/Shareddrives/ProjectSharedDrive/wazirxCSVCumulative\"\n",
        "DayofW = [\"Sunday\", \"Monday\", \"Tuesday\", \"Wednesday\", \"Thursday\", \"Friday\", \"Saturday\"]\n"
      ],
      "execution_count": 4,
      "outputs": []
    },
    {
      "cell_type": "code",
      "metadata": {
        "id": "nqUYkA311SaZ",
        "cellView": "form"
      },
      "source": [
        "#@title Load Coin names from the tickers file\n",
        "fileRef = open(driveDAILYpath+\"/USDTCoinName.txt\" ,\"r\")\n",
        "coinName = []\n",
        "coinCode = []\n",
        "for lines in fileRef:\n",
        "  name = eval(lines[:-1])\n",
        "  coinName.append(name[1])\n",
        "  coinCode.append(name)"
      ],
      "execution_count": 5,
      "outputs": []
    },
    {
      "cell_type": "markdown",
      "metadata": {
        "id": "kPGXdoae198A"
      },
      "source": [
        "## **Interactive Display for Transaction Trend Analysis**\n",
        "\n",
        "Choose the coin to start processing"
      ]
    },
    {
      "cell_type": "code",
      "metadata": {
        "colab": {
          "base_uri": "https://localhost:8080/",
          "height": 49,
          "referenced_widgets": [
            "b77f53786aa74a2684cb8f4ebc2a0a2e",
            "0b57a4b9c6894193bce72484f11146a0",
            "470951263f114f6d84d32d9c63abcf92"
          ]
        },
        "id": "vUJYqltD2ZHT",
        "outputId": "6093e349-b158-435d-92e9-370f3d776bf5",
        "cellView": "form"
      },
      "source": [
        "#@title Select the Coin\n",
        "\n",
        "coin = widgets.Dropdown(\n",
        "    options=coinName,\n",
        "    value=coinName[0],\n",
        "    description='Select Coin: ',\n",
        "    disabled=False,\n",
        ")\n",
        "\n",
        "display(coin)\n"
      ],
      "execution_count": 6,
      "outputs": [
        {
          "output_type": "display_data",
          "data": {
            "application/vnd.jupyter.widget-view+json": {
              "model_id": "b77f53786aa74a2684cb8f4ebc2a0a2e",
              "version_minor": 0,
              "version_major": 2
            },
            "text/plain": [
              "Dropdown(description='Select Coin: ', options=('Tether', 'Bitcoin', 'TRON', 'XRP', 'EOS', 'Ethereum', 'ICON', …"
            ]
          },
          "metadata": {}
        }
      ]
    },
    {
      "cell_type": "markdown",
      "metadata": {
        "id": "x7QFnQNP4iwK"
      },
      "source": [
        "Processing the selected coin. Run the next columns for output"
      ]
    },
    {
      "cell_type": "code",
      "source": [
        "#@title Fetching the Coin Name\n",
        "\n",
        "coinChosen = [item for item in coinCode if item[1] == coin.value]\n",
        "print(coinChosen[0][0])"
      ],
      "metadata": {
        "colab": {
          "base_uri": "https://localhost:8080/"
        },
        "cellView": "form",
        "id": "BT1VAXWVRGY-",
        "outputId": "4fe4ef46-7126-4f7f-e951-dfe14f86a960"
      },
      "execution_count": 26,
      "outputs": [
        {
          "output_type": "stream",
          "name": "stdout",
          "text": [
            "snxusdt\n"
          ]
        }
      ]
    },
    {
      "cell_type": "code",
      "metadata": {
        "colab": {
          "base_uri": "https://localhost:8080/",
          "height": 49,
          "referenced_widgets": [
            "0956b11872fe4aa2b0eb8a10956399f5",
            "5a86f7ed463b4dd0a82eb40b45401116",
            "2cd8f86c91a642e1ad2d1dc30d6a7238"
          ]
        },
        "cellView": "form",
        "id": "MXynGYk9ChAF",
        "outputId": "6acd509c-9835-4adb-a38f-f31dc11ad588"
      },
      "source": [
        "#@title Select Frequency\n",
        "TTIVal = [\"HOURLY\", \"DAILY\", \"MONTHLY\" ]\n",
        "TTI = widgets.Dropdown(\n",
        "    options=TTIVal,\n",
        "    value=TTIVal[0],\n",
        "    description='Select Frequency: ',\n",
        "    disabled=False,\n",
        ")\n",
        "display(TTI)"
      ],
      "execution_count": 27,
      "outputs": [
        {
          "output_type": "display_data",
          "data": {
            "application/vnd.jupyter.widget-view+json": {
              "model_id": "0956b11872fe4aa2b0eb8a10956399f5",
              "version_minor": 0,
              "version_major": 2
            },
            "text/plain": [
              "Dropdown(description='Select Frequency: ', options=('HOURLY', 'DAILY', 'MONTHLY'), value='HOURLY')"
            ]
          },
          "metadata": {}
        }
      ]
    },
    {
      "cell_type": "code",
      "metadata": {
        "id": "3eGi2qP01Qkq",
        "cellView": "form"
      },
      "source": [
        "#@title Performing Trend Analysis\n",
        "coinChosen = [item for item in coinCode if item[1] == coin.value]\n",
        "Freq = TTI.value\n",
        "\n",
        "if Freq == TTIVal[0]:\n",
        "  coinfile = driveDAILYpath+\"/\"+coinChosen[0][0]+Freq+\".csv\"\n",
        "else:\n",
        "  coinfile = driveDAILYpath+\"/\"+coinChosen[0][0]+\"DAILY.csv\"\n",
        "\n",
        "\n",
        "p0 = spark.read.option(\"header\",True).option(\"inferSchema\",True).csv(coinfile)\n",
        "\n",
        "#Hourly\n",
        "if Freq == TTIVal[0]:\n",
        "  p2 = p0.drop(\"_c0\").withColumn('Day', F.split(F.col(\"Date\"), \" \")[0])\n",
        "  window = Window.partitionBy('Day')\n",
        "  p3 = p2.withColumn('maxHigh', F.max('Volume').over(window))\\\n",
        "      .where(F.col('Volume') == F.col('maxHigh'))\\\n",
        "      .drop('maxHigh')\n",
        "\n",
        "  p4 = p3.withColumn('Time', F.split(F.col(\"Date\"), \" \")[1]).drop('Day')\n",
        "  p5 = p4.groupBy('Time').agg(F.count(F.col('Time')).alias(\"Frequency\")).orderBy('Time')\n",
        "  OUTPUT = p5.select(\"Time\", \"Frequency\")\n",
        "\n",
        "#Daily\n",
        "if Freq == TTIVal[1]:\n",
        "  p2 = p0.drop(\"_c0\").withColumn('Day', F.dayofweek(F.col(\"Date\"))).withColumn('Week', F.weekofyear(F.col(\"Date\")))\n",
        "  #p2.show()\n",
        "  window = Window.partitionBy('Week')\n",
        "  p3 = p2.withColumn('maxHigh', F.max('Volume').over(window))\\\n",
        "      .where(F.col('Volume') == F.col('maxHigh'))\\\n",
        "      .drop('maxHigh')\n",
        "  p4 = p3.groupBy('Day').agg(F.count(F.col('Day')).alias(\"Frequency\")).orderBy('Day')\n",
        "  OUTPUT = p4.select(\"Day\", \"Frequency\")\n",
        "\n",
        "#Monthly\n",
        "if Freq == TTIVal[2]:\n",
        "  p2 = p0.drop(\"_c0\").withColumn('DayNum', F.split(F.col(\"Date\"), \"-\")[2]).withColumn('Month', F.month(F.col(\"Date\")))\n",
        "\n",
        "  window = Window.partitionBy('Month')\n",
        "  p3 = p2.withColumn('maxHigh', F.max('Volume').over(window))\\\n",
        "      .where(F.col('Volume') == F.col('maxHigh'))\\\n",
        "      .drop('maxHigh')\n",
        "  #p3.show()\n",
        "  p4 = p3.groupBy('DayNum').agg(F.count(F.col('DayNum')).alias(\"Frequency\")).orderBy('DayNum')\n",
        "  OUTPUT = p4.select(\"DayNum\", \"Frequency\")\n"
      ],
      "execution_count": 30,
      "outputs": []
    },
    {
      "cell_type": "markdown",
      "metadata": {
        "id": "ARHE2wD5J7nc"
      },
      "source": [
        "## **Interactive Display for Transaction Trend Analysis**\n"
      ]
    },
    {
      "cell_type": "code",
      "metadata": {
        "colab": {
          "base_uri": "https://localhost:8080/",
          "height": 350
        },
        "id": "lIA7Ex4B5qga",
        "outputId": "e70ceca8-2a80-4d12-9e89-3f8e44d55862",
        "cellView": "form"
      },
      "source": [
        "#@title Create the Graph\n",
        "\n",
        "if Freq == TTIVal[0]:\n",
        "  xval = OUTPUT.rdd.map(lambda x: x[0][:2]).collect()\n",
        "  plt.xlabel(\"Hour\")\n",
        "elif Freq == TTIVal[1]:\n",
        "  xval = DayofW\n",
        "  plt.xlabel(\"Day of Week\")\n",
        "elif Freq == TTIVal[2]:\n",
        "  xval = OUTPUT.rdd.map(lambda x: x[0]).collect()\n",
        "  plt.xlabel(\"Day of Month\")\n",
        "\n",
        "\n",
        "\n",
        "yval = OUTPUT.rdd.map(lambda x: x[1]).collect()\n",
        "#print(xval)\n",
        "#f = plt.figure()\n",
        "#f.set_figwidth(200)\n",
        "#f.set_figheight(100)\n",
        "plt.bar(xval, yval, width=0.5)\n",
        "#plt.xlabel(Freq)\n",
        "plt.ylabel(\"Frequency\")\n",
        "plt.rcParams[\"figure.figsize\"] = (10,5)\n",
        "#plt.legend(loc=\"upper right\")\n",
        "plt.title(\"Transaction Trend - \"+ coin.value)\n",
        "\n",
        "\n",
        "#plt.xticks(xval[::200])\n",
        "plt.show()"
      ],
      "execution_count": 31,
      "outputs": [
        {
          "output_type": "display_data",
          "data": {
            "image/png": "[encoded data removed]",
            "text/plain": [
              "<Figure size 720x360 with 1 Axes>"
            ]
          },
          "metadata": {
            "needs_background": "light"
          }
        }
      ]
    },
    {
      "cell_type": "code",
      "metadata": {
        "id": "NHYC5YXiEtTi"
      },
      "source": [
        ""
      ],
      "execution_count": null,
      "outputs": []
    }
  ]
}