{
  "nbformat": 4,
  "nbformat_minor": 0,
  "metadata": {
    "colab": {
      "name": "Gold_Data_Analysis_Module.ipynb",
      "provenance": [],
      "collapsed_sections": []
    },
    "kernelspec": {
      "name": "python3",
      "display_name": "Python 3"
    },
    "language_info": {
      "name": "python"
    }
  },
  "cells": [
    {
      "cell_type": "code",
      "metadata": {
        "colab": {
          "base_uri": "https://localhost:8080/",
          "height": 237
        },
        "id": "RYEI9WInaNhf",
        "outputId": "d9c79d85-53a1-4f5e-a3c1-92e12d881d9c",
        "cellView": "form"
      },
      "source": [
        "#@title Configuration\n",
        "from google.colab import drive\n",
        "drive.mount('/content/drive')\n",
        "!apt-get install openjdk-8-jdk-headless -qq > /dev/null\n",
        "#!wget -q https://mirrors.estointernet.in/apache/spark/spark-3.0.3/spark-3.0.3-bin-hadoop2.7.tgz -P /content/drive/MyDrive # link wrong in blog\n",
        "!tar xf /content/drive/Shareddrives/DA231-2021-Aug-Public/spark-3.0.3-bin-hadoop2.7.tgz\n",
        "!pip install -q findspark\n",
        "import os\n",
        "os.environ[\"JAVA_HOME\"] = \"/usr/lib/jvm/java-8-openjdk-amd64\"\n",
        "os.environ[\"SPARK_HOME\"] = \"/content/spark-3.0.3-bin-hadoop2.7\"\n",
        "import findspark\n",
        "findspark.init()\n",
        "findspark.find()\n",
        "from pyspark.sql import SparkSession\n",
        "spark = SparkSession.builder\\\n",
        "         .master(\"local\")\\\n",
        "         .appName(\"Colab\")\\\n",
        "         .config('spark.ui.port', '4050')\\\n",
        "         .getOrCreate()\n",
        "spark\n"
      ],
      "execution_count": 1,
      "outputs": [
        {
          "output_type": "stream",
          "name": "stdout",
          "text": [
            "Mounted at /content/drive\n"
          ]
        },
        {
          "output_type": "execute_result",
          "data": {
            "text/html": [
              "\n",
              "            <div>\n",
              "                <p><b>SparkSession - in-memory</b></p>\n",
              "                \n",
              "        <div>\n",
              "            <p><b>SparkContext</b></p>\n",
              "\n",
              "            <p><a href=\"http://7373416ebd92:4050\">Spark UI</a></p>\n",
              "\n",
              "            <dl>\n",
              "              <dt>Version</dt>\n",
              "                <dd><code>v3.0.3</code></dd>\n",
              "              <dt>Master</dt>\n",
              "                <dd><code>local</code></dd>\n",
              "              <dt>AppName</dt>\n",
              "                <dd><code>Colab</code></dd>\n",
              "            </dl>\n",
              "        </div>\n",
              "        \n",
              "            </div>\n",
              "        "
            ],
            "text/plain": [
              "<pyspark.sql.session.SparkSession at 0x7fb61d17ca90>"
            ]
          },
          "metadata": {},
          "execution_count": 1
        }
      ]
    },
    {
      "cell_type": "code",
      "metadata": {
        "id": "LdSo3YnBx7VA",
        "cellView": "form"
      },
      "source": [
        "#@title Common Imports\n",
        "from pyspark import SparkContext, SparkConf\n",
        "import sys\n",
        "import json\n",
        "import pyspark.sql.functions as F\n",
        "sc = SparkContext.getOrCreate()\n",
        "from pyspark.sql.window import Window\n",
        "import matplotlib.pyplot as plt\n",
        "import numpy as np\n",
        "\n",
        "from ipywidgets import widgets\n",
        "from IPython.display import display\n",
        "\n",
        "from math import sqrt\n",
        "from os.path import exists\n",
        "\n",
        "from pyspark.ml import Pipeline\n",
        "from pyspark.ml.feature import VectorAssembler\n",
        "from pyspark.ml.regression import LinearRegression\n",
        "from pyspark.ml.evaluation import RegressionEvaluator\n",
        "from pyspark.ml.evaluation import Evaluator\n",
        "from pyspark.ml.stat import Correlation\n",
        "from pyspark.sql.functions import col\n",
        "from pyspark.sql.functions import unix_timestamp"
      ],
      "execution_count": 2,
      "outputs": []
    },
    {
      "cell_type": "code",
      "metadata": {
        "id": "AQvjYyzJa7Cw"
      },
      "source": [
        "#@title Gold Data Initialization { display-mode: \"both\" }\n",
        "# load pollution data from CSV\n",
        "pg = spark.read.option(\"header\",True).option(\"inferSchema\",True).csv(\"/content/drive/Shareddrives/ProjectSharedDrive/Gold/2021.csv\")\n",
        "p1g = pg.drop(\"Instrument Type\").drop(\"Avg Daily Turnover (Lacs)\").drop(\"Segment\").withColumnRenamed(\"Total Value (Lacs)\",\"Total_Val\").withColumnRenamed(\"Traded Contract(Lots)\",\"Traded_Contract\").withColumnRenamed(\"Date\",\"Gold_Date\")\n",
        "p1g.count()\n",
        "pg20 = spark.read.option(\"header\",True).option(\"inferSchema\",True).csv(\"/content/drive/Shareddrives/ProjectSharedDrive/Gold/2020.csv\")\n",
        "p1g20 = pg20.drop(\"Instrument Type\").drop(\"Avg Daily Turnover (Lacs)\").drop(\"Segment\").withColumnRenamed(\"Total Value (Lacs)\",\"Total_Val\").withColumnRenamed(\"Traded Contract(Lots)\",\"Traded_Contract\").withColumnRenamed(\"Date\",\"Gold_Date\")\n",
        "\n",
        "pg19 = spark.read.option(\"header\",True).option(\"inferSchema\",True).csv(\"/content/drive/Shareddrives/ProjectSharedDrive/Gold/2019.csv\")\n",
        "p1g19 = pg19.drop(\"Instrument Type\").drop(\"Avg Daily Turnover (Lacs)\").drop(\"Segment\").withColumnRenamed(\"Total Value (Lacs)\",\"Total_Val\").withColumnRenamed(\"Traded Contract(Lots)\",\"Traded_Contract\").withColumnRenamed(\"Date\",\"Gold_Date\")\n",
        "\n",
        "pg18 = spark.read.option(\"header\",True).option(\"inferSchema\",True).csv(\"/content/drive/Shareddrives/ProjectSharedDrive/Gold/2018.csv\")\n",
        "p1g18 = pg18.drop(\"Instrument Type\").drop(\"Avg Daily Turnover (Lacs)\").drop(\"Segment\").withColumnRenamed(\"Total Value (Lacs)\",\"Total_Val\").withColumnRenamed(\"Traded Contract(Lots)\",\"Traded_Contract\").withColumnRenamed(\"Date\",\"Gold_Date\")\n",
        "\n",
        "gold = p1g.union(p1g20).union(p1g19).union(p1g18)\n",
        "ts = unix_timestamp(\"Gold_Date\", \"dd-MMM-yy\").cast(\"timestamp\").cast(\"date\")\n",
        "p2g = gold.select(\"Gold_Date\",\"Traded_Contract\").withColumn(\"gold_date\",ts)"
      ],
      "execution_count": 3,
      "outputs": []
    },
    {
      "cell_type": "markdown",
      "metadata": {
        "id": "3Buw8_851bJc"
      },
      "source": [
        "File path, Folder ID, Constants and other related information"
      ]
    },
    {
      "cell_type": "code",
      "metadata": {
        "id": "z81gqu7Sa-y3",
        "cellView": "form"
      },
      "source": [
        "#@title File path, Folder ID, Constants\n",
        "drivepath = \"/content/drive/Shareddrives/ProjectSharedDrive/wazirxCSVData\"\n",
        "driveDAILYpath = \"/content/drive/Shareddrives/ProjectSharedDrive/wazirxCSVCumulative\"\n",
        "cryptofile = \"/content/drive/Shareddrives/ProjectSharedDrive/top25_cryptocoins_list.jsonl\"\n"
      ],
      "execution_count": 4,
      "outputs": []
    },
    {
      "cell_type": "code",
      "metadata": {
        "id": "nqUYkA311SaZ",
        "cellView": "form"
      },
      "source": [
        "#@title Load Coin Details\n",
        "fileRef = open(driveDAILYpath+\"/USDTCoinName.txt\" ,\"r\")\n",
        "coinName = []\n",
        "coinCode = []\n",
        "for lines in fileRef:\n",
        "  name = eval(lines[:-1])\n",
        "  coinName.append(name[1])\n",
        "  coinCode.append(name)\n",
        "\n",
        "_crypt_raw = spark.read.json(cryptofile)\n",
        "_crypt = _crypt_raw.withColumn(\"name\", F.col(\"name\")) \\\n",
        "          .withColumn(\"symbol\", F.col(\"symbol\")) \\\n",
        "          .withColumn(\"cmc_rank\", F.col(\"cmc_rank\")).orderBy(\"cmc_rank\")\n",
        "#_crypt.show()\n",
        "top10=[]\n",
        "j=0\n",
        "for i in _crypt.collect():\n",
        "   top10.append(i[1])\n",
        "   j+=1\n",
        "   if(j==10):\n",
        "     break"
      ],
      "execution_count": 5,
      "outputs": []
    },
    {
      "cell_type": "markdown",
      "metadata": {
        "id": "kPGXdoae198A"
      },
      "source": [
        "## **Interactive Display for Gold Data Correlation**\n",
        "\n",
        "Processing for Top 10 Coins"
      ]
    },
    {
      "cell_type": "code",
      "source": [
        "#@title Perform the Gold Data Correlation\n",
        "corr=[]\n",
        "\n",
        "for i in top10:\n",
        "  coinChosen = [item for item in coinCode if item[1] == i]\n",
        "  coinname = i\n",
        "  coinfile = driveDAILYpath+\"/\"+coinChosen[0][0]+\"DAILY.csv\"\n",
        "  coinn = spark.read.option(\"header\",True).option(\"inferSchema\",True).csv(coinfile)\n",
        "  p2 = coinn.drop(\"_c0\").drop(\"Open\").drop(\"High\").drop(\"Close\").drop(\"Low\")\n",
        "  p3 = p2.select(col(\"Date\").cast(\"date\"),\"Volume\")\n",
        "  joindf = p3.join(p2g,(p3.Date==p2g.gold_date)).drop(\"gold_date\") #.withColumn(\"month\",month(\"Date\")).withColumn(\"year\",year(\"Date\"))\n",
        "  corr.append(joindf.corr(\"Volume\",\"Traded_Contract\"))"
      ],
      "metadata": {
        "id": "zUdqeyJ9n3eo",
        "cellView": "form"
      },
      "execution_count": 6,
      "outputs": []
    },
    {
      "cell_type": "code",
      "metadata": {
        "id": "NHYC5YXiEtTi",
        "colab": {
          "base_uri": "https://localhost:8080/",
          "height": 389
        },
        "cellView": "form",
        "outputId": "269b357a-4ada-4509-9af9-405d72ede711"
      },
      "source": [
        "#@title Graph Plotting\n",
        "\n",
        "plt.bar(top10, corr, color ='blue',width = 0.5, label=\"Top 10 Coins\")\n",
        "plt.xticks(rotation=65)\n",
        "plt.title(\"Gold Data Correlation\")\n",
        "plt.rcParams[\"figure.figsize\"] = (10,5)\n",
        "plt.legend(loc=\"upper right\")\n",
        "plt.show()"
      ],
      "execution_count": 8,
      "outputs": [
        {
          "output_type": "display_data",
          "data": {
            "image/png": "[encoded data removed]",
            "text/plain": [
              "<Figure size 720x360 with 1 Axes>"
            ]
          },
          "metadata": {
            "needs_background": "light"
          }
        }
      ]
    }
  ]
}