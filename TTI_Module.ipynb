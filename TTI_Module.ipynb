{
  "cells": [
    {
      "cell_type": "code",
      "execution_count": null,
      "metadata": {
        "cellView": "form",
        "colab": {
          "base_uri": "https://localhost:8080/"
        },
        "id": "RYEI9WInaNhf",
        "outputId": "2a0b3792-8236-4e84-d36a-b36811a1e3b6"
      },
      "outputs": [
        {
          "name": "stdout",
          "output_type": "stream",
          "text": [
            "Mounted at /content/drive\n"
          ]
        }
      ],
      "source": [
        "#@title Configuration\n",
        "from google.colab import drive\n",
        "import os\n",
        "drive.mount('/content/drive')\n",
        "!apt-get install openjdk-8-jdk-headless -qq > /dev/null\n",
        "!tar xf /content/drive/Shareddrives/DA231-2021-Aug-Public/spark-3.0.3-bin-hadoop2.7.tgz\n",
        "!pip install -q findspark\n",
        "os.environ[\"JAVA_HOME\"] = \"/usr/lib/jvm/java-8-openjdk-amd64\"\n",
        "os.environ[\"SPARK_HOME\"] = \"/content/spark-3.0.3-bin-hadoop2.7\"\n"
      ]
    },
    {
      "cell_type": "code",
      "execution_count": null,
      "metadata": {
        "colab": {
          "background_save": true,
          "base_uri": "https://localhost:8080/",
          "height": 219
        },
        "id": "AQvjYyzJa7Cw",
        "outputId": "15225f20-97c4-45fb-c2d9-596af33a6f3a"
      },
      "outputs": [
        {
          "data": {
            "text/html": [
              "\n",
              "            <div>\n",
              "                <p><b>SparkSession - in-memory</b></p>\n",
              "                \n",
              "        <div>\n",
              "            <p><b>SparkContext</b></p>\n",
              "\n",
              "            <p><a href=\"http://0dcf8daef69a:4050\">Spark UI</a></p>\n",
              "\n",
              "            <dl>\n",
              "              <dt>Version</dt>\n",
              "                <dd><code>v3.0.3</code></dd>\n",
              "              <dt>Master</dt>\n",
              "                <dd><code>local</code></dd>\n",
              "              <dt>AppName</dt>\n",
              "                <dd><code>Colab</code></dd>\n",
              "            </dl>\n",
              "        </div>\n",
              "        \n",
              "            </div>\n",
              "        "
            ],
            "text/plain": [
              "<pyspark.sql.session.SparkSession at 0x7f6a07ce0e90>"
            ]
          },
          "execution_count": null,
          "metadata": {},
          "output_type": "execute_result"
        }
      ],
      "source": [
        "#@title Initialization { display-mode: \"both\" }\n",
        "import findspark\n",
        "findspark.init()\n",
        "findspark.find()\n",
        "from pyspark.sql import SparkSession\n",
        "spark = SparkSession.builder\\\n",
        "         .master(\"local\")\\\n",
        "         .appName(\"Colab\")\\\n",
        "         .config('spark.ui.port', '4050')\\\n",
        "         .getOrCreate()\n",
        "spark"
      ]
    },
    {
      "cell_type": "code",
      "execution_count": null,
      "metadata": {
        "cellView": "form",
        "colab": {
          "background_save": true
        },
        "id": "LdSo3YnBx7VA"
      },
      "outputs": [],
      "source": [
        "#@title Common Imports\n",
        "from pyspark import SparkContext, SparkConf\n",
        "import sys\n",
        "import json\n",
        "import pyspark.sql.functions as F\n",
        "sc = SparkContext.getOrCreate()\n",
        "from pyspark.sql.window import Window\n",
        "import matplotlib.pyplot as plt\n",
        "import numpy as np\n",
        "\n",
        "from ipywidgets import widgets\n",
        "from IPython.display import display\n",
        "\n",
        "from math import sqrt\n",
        "from os.path import exists"
      ]
    },
    {
      "cell_type": "markdown",
      "metadata": {
        "id": "3Buw8_851bJc"
      },
      "source": [
        "File path, Folder ID, Constants and other related information"
      ]
    },
    {
      "cell_type": "code",
      "execution_count": null,
      "metadata": {
        "colab": {
          "background_save": true
        },
        "id": "z81gqu7Sa-y3"
      },
      "outputs": [],
      "source": [
        "#@title File path, Folder ID, Constants\n",
        "drivepath = \"/content/drive/Shareddrives/ProjectSharedDrive/wazirxCSVData\"\n",
        "driveDAILYpath = \"/content/drive/Shareddrives/ProjectSharedDrive/wazirxCSVCumulative\"\n"
      ]
    },
    {
      "cell_type": "code",
      "execution_count": null,
      "metadata": {
        "colab": {
          "background_save": true
        },
        "id": "nqUYkA311SaZ"
      },
      "outputs": [],
      "source": [
        "#@title Load Coin names from the tickers file\n",
        "#tickers = open(drivepath+\"/tickers\" ,\"r\")\n",
        "#tfile = json.load(tickers)\n",
        "#tickers.close()\n",
        "\n",
        "#coins = list(tfile.keys())\n",
        "#USDTcoins = [s for s in coins if \"usdt\" in s]\n",
        "\n",
        "fileRef = open(driveDAILYpath+\"/USDTCoinName.txt\" ,\"r\")\n",
        "coinName = []\n",
        "coinCode = []\n",
        "for lines in fileRef:\n",
        "  name = eval(lines[:-1])\n",
        "  coinName.append(name[1])\n",
        "  coinCode.append(name)"
      ]
    },
    {
      "cell_type": "markdown",
      "metadata": {
        "id": "kPGXdoae198A"
      },
      "source": [
        "## **Interactive Display for Trend Trading Indicators**\n",
        "\n",
        "Choose the coin to start processing"
      ]
    },
    {
      "cell_type": "code",
      "execution_count": null,
      "metadata": {
        "colab": {
          "background_save": true,
          "base_uri": "https://localhost:8080/",
          "height": 49,
          "referenced_widgets": [
            "d1f75728542f44adac556c7499a8ab55"
          ]
        },
        "id": "vUJYqltD2ZHT",
        "outputId": "86070ab2-66fd-47ff-bd8e-5a9667504ed1"
      },
      "outputs": [
        {
          "data": {
            "application/vnd.jupyter.widget-view+json": {
              "model_id": "d1f75728542f44adac556c7499a8ab55",
              "version_major": 2,
              "version_minor": 0
            },
            "text/plain": [
              "Dropdown(description='Select Coin: ', options=('Tether', 'Bitcoin', 'TRON', 'XRP', 'EOS', 'Ethereum', 'ICON', …"
            ]
          },
          "metadata": {},
          "output_type": "display_data"
        }
      ],
      "source": [
        "#@title Select the Coin\n",
        "TTIVal = [\"Moving Average\", \"MACD\", \"RSI\", \"Stochastic RSI\", \"Standard Deviation\"]\n",
        "\n",
        "coin = widgets.Dropdown(\n",
        "    options=coinName,\n",
        "    value=coinName[0],\n",
        "    description='Select Coin: ',\n",
        "    disabled=False,\n",
        ")\n",
        "\n",
        "display(coin)"
      ]
    },
    {
      "cell_type": "markdown",
      "metadata": {
        "id": "x7QFnQNP4iwK"
      },
      "source": [
        "Processing the selected coin. Run the next columns for output"
      ]
    },
    {
      "cell_type": "code",
      "execution_count": null,
      "metadata": {
        "id": "3eGi2qP01Qkq"
      },
      "outputs": [],
      "source": [
        "#@title Loading Coin Details\n",
        "coinChosen = [item for item in coinCode if item[1] == coin.value]\n",
        "coinname = coin.value\n",
        "coinfile = driveDAILYpath+\"/\"+coinChosen[0][0]+\"DAILY.csv\"\n",
        "\n",
        "\n",
        "p0 = spark.read.option(\"header\",True).option(\"inferSchema\",True).csv(coinfile)\n",
        "p2 = p0.drop(\"_c0\") #.withColumn(\"Date\",p0.Date.cast(\"Date\"))\n",
        "window = Window.orderBy(\"Date\")"
      ]
    },
    {
      "cell_type": "code",
      "execution_count": null,
      "metadata": {
        "id": "zUdqeyJ9n3eo"
      },
      "outputs": [],
      "source": [
        "#@title TTI Calculations\n",
        "def calcSD(path):\n",
        "  coinfile = sc.textFile(path)\n",
        "\n",
        "  answer = [tuple((coinname, 0))]\n",
        "\n",
        "  # Convert to Key-Value RDD with city:list of all cols\n",
        "  coinRDD = coinfile.map(lambda l : (l.split(\",\")[1], l.split(\",\"))).filter(lambda kv : kv[1][1] != \"Date\").cache()\n",
        "   \n",
        "  \n",
        "  # Map values and take only 'close' Price column\n",
        "  closeRDD = coinRDD.map(lambda l: (l[0][:7], float(l[1][5])))\n",
        "\n",
        "  aggRDD = closeRDD.aggregateByKey((0,0), lambda a,b: (a[0] + b,    a[1] + 1),\n",
        "                                    lambda a,b: (a[0] + b[0], a[1] + b[1]))\n",
        "  \n",
        "\n",
        "  # Calculate mean and store it in meanRdd\n",
        "  meanRDD = aggRDD.mapValues(lambda v: v[0]/v[1]).sortBy(lambda l: l[0])\n",
        "\n",
        "  # Join closing Price Rdd with Mean Rdd for SD calculation\n",
        "  joinRDD = closeRDD.join(meanRDD)\n",
        "\n",
        "  # Map Xi and X_Avg values to (Xi - X_Avg)^2\n",
        "  sqRDD = joinRDD.mapValues(lambda l: (l[0]-l[1]) *(l[0]-l[1]))\n",
        "\n",
        "  sqSumRdd = sqRDD.aggregateByKey((0,0), lambda a,b: (a[0] + b,    a[1] + 1),\n",
        "                                    lambda a,b: (a[0] + b[0], a[1] + b[1]))\n",
        "\n",
        "  # Calculate Sqrt of Mean of Sum^2 and Calculate SD\n",
        "  stdRdd = sqSumRdd.mapValues(lambda v: sqrt(v[0]/v[1])).sortBy(lambda l: l[0])  \n",
        "  answer = stdRdd\n",
        "\n",
        "  return answer\n"
      ]
    },
    {
      "cell_type": "code",
      "execution_count": null,
      "metadata": {
        "id": "aUFWbR-AzdvQ"
      },
      "outputs": [],
      "source": [
        "#@title TTI Calculations\n",
        "#RSI\n",
        "p3 = p2.withColumn(\"Diff\", F.col(\"Close\") - F.lag(F.col(\"Close\"), 1, 0)\\\n",
        "                   .over(window)).drop(\"Close\") \n",
        "p4 = p3.withColumn(\"Gain\",F.when((F.col(\"Diff\")>0),F.col(\"Diff\")).otherwise(0))\\\n",
        "      .withColumn(\"Loss\",F.when((F.col(\"Diff\")<0),(F.col(\"Diff\")*-1)).otherwise(0)).drop(\"Diff\")\n",
        "\n",
        "w = (Window.orderBy(F.col(\"Date\")).rowsBetween(-14, 0))\n",
        "p5 = p4.withColumn('rolling_gain', F.avg(\"Gain\").over(w))\\\n",
        "      .withColumn('rolling_loss', F.avg(\"Loss\").over(w))\\\n",
        "      .drop(\"Gain\").drop(\"Loss\")\n",
        "p6 = p5.withColumn('RSI',F.expr(\"100-(100/(1+(rolling_gain/rolling_loss)))\"))\\\n",
        "      .drop(\"rolling_gain\").drop(\"rolling_loss\").fillna(0)\n",
        "RSI = p6.select(\"Date\", \"RSI\").withColumn(\"DateNew\",F.substring(F.col(\"Date\"),1,7)).drop(\"Date\").groupBy(\"DateNew\").agg(F.mean(\"RSI\"))\n",
        "#RSI.show()\n",
        "\n",
        "\n",
        "#moving average\n",
        "w1 = (Window.orderBy(F.col(\"Date\")).rowsBetween(-50, 0))\n",
        "p7 = p2.withColumn('Moving_average', F.avg(\"Close\").over(w1))\n",
        "MovingAvg = p7.select(\"Date\", \"Moving_average\").withColumn(\"DateNew\",F.substring(F.col(\"Date\"),1,7)).drop(\"Date\").groupBy(\"DateNew\").agg(F.mean(\"Moving_average\"))\n",
        "#MovingAvg.show()\n",
        "\n",
        "\n",
        "\n",
        "#schoastic RSI\n",
        "p8 = p6.withColumn('Min_RSI', F.min(\"RSI\").over(w))\\\n",
        "        .withColumn('Max_RSI', F.max(\"RSI\").over(w))\n",
        "p9 = p8.withColumn('SRSI',F.expr(\"(RSI-Min_RSI)/(Max_RSI-Min_RSI)\"))\n",
        "SRSI = p9.select(\"Date\", \"SRSI\").withColumn(\"DateNew\",F.substring(F.col(\"Date\"),1,7)).drop(\"Date\").groupBy(\"DateNew\").agg(F.mean(\"SRSI\"))\n",
        "#SRSI.show()\n",
        "\n",
        "\n",
        "#MACD\n",
        "w2 = (Window.orderBy(F.col(\"Date\")).rowsBetween(-12, 0))\n",
        "w3 = (Window.orderBy(F.col(\"Date\")).rowsBetween(-26, 0))\n",
        "w4 = (Window.orderBy(F.col(\"Date\")).rowsBetween(-9, 0))\n",
        "p10 = p7.withColumn('Exp_Mov_avg_12', F.avg(\"Moving_average\").over(w2))\\\n",
        "        .withColumn('Exp_Mov_avg_26', F.avg(\"Moving_average\").over(w3))\n",
        "p11 = p10.withColumn('Signal_line', F.expr(\"Exp_Mov_avg_12-Exp_Mov_avg_26\"))\n",
        "p12 = p11.withColumn('MACD', F.avg(\"Signal_line\").over(w4))\n",
        "\n",
        "MACD = p12.select(\"Date\", \"MACD\").withColumn(\"DateNew\",F.substring(F.col(\"Date\"),1,7)).drop(\"Date\").groupBy(\"DateNew\").agg(F.mean(\"MACD\"))\n",
        "\n",
        "SD = calcSD(coinfile)"
      ]
    },
    {
      "cell_type": "code",
      "execution_count": null,
      "metadata": {
        "colab": {
          "base_uri": "https://localhost:8080/",
          "height": 49,
          "referenced_widgets": [
            "961bbe6ef29d4f5f863f95a23b66959e",
            "692efb8cfd6b4930b6b378926c92b41d",
            "139cbf8fc7274025bc31d7a9c3545d55"
          ]
        },
        "id": "MXynGYk9ChAF",
        "outputId": "13853548-425a-4668-a65d-4108768694ae"
      },
      "outputs": [
        {
          "data": {
            "application/vnd.jupyter.widget-view+json": {
              "model_id": "961bbe6ef29d4f5f863f95a23b66959e",
              "version_major": 2,
              "version_minor": 0
            },
            "text/plain": [
              "Dropdown(description='Select TTI: ', options=('Moving Average', 'MACD', 'RSI', 'Stochastic RSI', 'Standard Dev…"
            ]
          },
          "metadata": {},
          "output_type": "display_data"
        }
      ],
      "source": [
        "#@title Select TTI\n",
        "TTI = widgets.Dropdown(\n",
        "    options=TTIVal,\n",
        "    value=TTIVal[0],\n",
        "    description='Select TTI: ',\n",
        "    disabled=False,\n",
        ")\n",
        "display(TTI)"
      ]
    },
    {
      "cell_type": "markdown",
      "metadata": {
        "id": "ARHE2wD5J7nc"
      },
      "source": [
        "## **Interactive Display for Trend Trading Indicators**\n"
      ]
    },
    {
      "cell_type": "code",
      "execution_count": null,
      "metadata": {
        "colab": {
          "base_uri": "https://localhost:8080/",
          "height": 336
        },
        "id": "lIA7Ex4B5qga",
        "outputId": "000d04c0-ad00-4cb6-8aa9-ee9f90f30955"
      },
      "outputs": [
        {
          "data": {
            "image/png": "[encoded data removed]",
            "text/plain": [
              "<Figure size 1080x360 with 1 Axes>"
            ]
          },
          "metadata": {},
          "output_type": "display_data"
        }
      ],
      "source": [
        "#@title Create the Graph\n",
        "\n",
        "if TTIVal[4] == TTI.value:\n",
        "  TTIselected = SD\n",
        "  xval = TTIselected.map(lambda x: x[0]).collect()\n",
        "  yval = TTIselected.map(lambda x: x[1]).collect()\n",
        "  #plt.xticks(xval[::10])\n",
        "else:\n",
        "  if TTIVal[0] == TTI.value:\n",
        "    TTIselected = MovingAvg\n",
        "  elif  TTIVal[1] == TTI.value:\n",
        "    TTIselected = MACD\n",
        "  elif  TTIVal[2] == TTI.value:\n",
        "    TTIselected = RSI\n",
        "  elif  TTIVal[3] == TTI.value:\n",
        "    TTIselected = SRSI\n",
        "\n",
        "  xval = TTIselected.rdd.map(lambda x: x[0][:7]).collect()\n",
        "  yval = TTIselected.rdd.map(lambda x: x[1]).collect()\n",
        " \n",
        "  # f = plt.figure()\n",
        "  # f.set_figwidth(200)\n",
        "  # f.set_figheight(10)\n",
        "plt.plot(xval, yval, label = TTI.value) \n",
        "plt.ylabel(TTI.value)\n",
        "\n",
        "if TTIVal[4] == TTI.value:\n",
        "  plt.xticks(xval[::6])\n",
        "else:\n",
        "  plt.xticks(xval[::6])\n",
        "#print(yval)\n",
        "plt.legend(loc=\"upper right\")\n",
        "plt.title(\"TTI - \"+ coinname)\n",
        "plt.rcParams[\"figure.figsize\"] = (15,5)\n",
        "\n",
        "plt.show()"
      ]
    },
    {
      "cell_type": "code",
      "execution_count": null,
      "metadata": {
        "id": "NHYC5YXiEtTi"
      },
      "outputs": [],
      "source": [
        ""
      ]
    }
  ],
  "metadata": {
    "colab": {
      "collapsed_sections": [],
      "name": "TTI_Module_v0.2.ipynb",
      "provenance": []
    },
    "kernelspec": {
      "display_name": "Python 3",
      "name": "python3"
    },
    "language_info": {
      "name": "python"
    },
    "widgets": {
      "application/vnd.jupyter.widget-state+json": {
        "139cbf8fc7274025bc31d7a9c3545d55": {
          "model_module": "@jupyter-widgets/controls",
          "model_module_version": "1.5.0",
          "model_name": "DescriptionStyleModel",
          "state": {
            "_model_module": "@jupyter-widgets/controls",
            "_model_module_version": "1.5.0",
            "_model_name": "DescriptionStyleModel",
            "_view_count": null,
            "_view_module": "@jupyter-widgets/base",
            "_view_module_version": "1.2.0",
            "_view_name": "StyleView",
            "description_width": ""
          }
        },
        "692efb8cfd6b4930b6b378926c92b41d": {
          "model_module": "@jupyter-widgets/base",
          "model_module_version": "1.2.0",
          "model_name": "LayoutModel",
          "state": {
            "_model_module": "@jupyter-widgets/base",
            "_model_module_version": "1.2.0",
            "_model_name": "LayoutModel",
            "_view_count": null,
            "_view_module": "@jupyter-widgets/base",
            "_view_module_version": "1.2.0",
            "_view_name": "LayoutView",
            "align_content": null,
            "align_items": null,
            "align_self": null,
            "border": null,
            "bottom": null,
            "display": null,
            "flex": null,
            "flex_flow": null,
            "grid_area": null,
            "grid_auto_columns": null,
            "grid_auto_flow": null,
            "grid_auto_rows": null,
            "grid_column": null,
            "grid_gap": null,
            "grid_row": null,
            "grid_template_areas": null,
            "grid_template_columns": null,
            "grid_template_rows": null,
            "height": null,
            "justify_content": null,
            "justify_items": null,
            "left": null,
            "margin": null,
            "max_height": null,
            "max_width": null,
            "min_height": null,
            "min_width": null,
            "object_fit": null,
            "object_position": null,
            "order": null,
            "overflow": null,
            "overflow_x": null,
            "overflow_y": null,
            "padding": null,
            "right": null,
            "top": null,
            "visibility": null,
            "width": null
          }
        },
        "961bbe6ef29d4f5f863f95a23b66959e": {
          "model_module": "@jupyter-widgets/controls",
          "model_module_version": "1.5.0",
          "model_name": "DropdownModel",
          "state": {
            "_dom_classes": [],
            "_model_module": "@jupyter-widgets/controls",
            "_model_module_version": "1.5.0",
            "_model_name": "DropdownModel",
            "_options_labels": [
              "Moving Average",
              "MACD",
              "RSI",
              "Stochastic RSI",
              "Standard Deviation"
            ],
            "_view_count": null,
            "_view_module": "@jupyter-widgets/controls",
            "_view_module_version": "1.5.0",
            "_view_name": "DropdownView",
            "description": "Select TTI: ",
            "description_tooltip": null,
            "disabled": false,
            "index": 3,
            "layout": "IPY_MODEL_692efb8cfd6b4930b6b378926c92b41d",
            "style": "IPY_MODEL_139cbf8fc7274025bc31d7a9c3545d55"
          }
        }
      }
    }
  },
  "nbformat": 4,
  "nbformat_minor": 0
}