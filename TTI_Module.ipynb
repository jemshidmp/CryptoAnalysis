{
  "nbformat": 4,
  "nbformat_minor": 0,
  "metadata": {
    "colab": {
      "name": "TTI_Module_v0.2.ipynb",
      "provenance": [],
      "collapsed_sections": []
    },
    "kernelspec": {
      "name": "python3",
      "display_name": "Python 3"
    },
    "language_info": {
      "name": "python"
    },
    "widgets": {
      "application/vnd.jupyter.widget-state+json": {
        "ab904dba822d44c88e57db9c5cbdd324": {
          "model_module": "@jupyter-widgets/controls",
          "model_name": "DropdownModel",
          "model_module_version": "1.5.0",
          "state": {
            "_options_labels": [
              "Tether",
              "Bitcoin",
              "TRON",
              "XRP",
              "EOS",
              "Ethereum",
              "ICON",
              "Litecoin",
              "TrueUSD",
              "Hydro Protocol",
              "Basic Attention Token",
              "Dash",
              "Nucleus Vision",
              "QuarkChain",
              "Zilliqa",
              "0x",
              "Bitcoin Cash",
              "USD Coin",
              "OMG Network",
              "FarmPoly",
              "Dent",
              "IOST",
              "FUNToken",
              "Status",
              "THETA",
              "Request",
              "Stellar",
              "Tezos",
              "BitTorrent",
              "Fetch.ai",
              "Theta Fuel",
              "Celer Network",
              "Polygon",
              "Cardano",
              "Ravencoin",
              "Monero",
              "Cosmos",
              "Algorand",
              "Chainlink",
              "Qtum",
              "Ethereum Classic",
              "Zcash",
              "Waves",
              "Fantom",
              "Enjin Coin",
              "Lisk",
              "Steem",
              "Verge",
              "Loom Network",
              "Decentraland",
              "Augur",
              "Bluzelle",
              "Nano",
              "Siacoin",
              "Bitcoin Gold",
              "NEM",
              "BitShares",
              "Ardor",
              "Nebulas",
              "WINkLink",
              "Binance Coin",
              "Chiliz",
              "WazirX",
              "Kava",
              "Ankr",
              "Binance USD",
              "BigONE Token",
              "Origin Protocol",
              "Hive",
              "FTX Token",
              "Band Protocol",
              "JUST",
              "Cartesi",
              "Chromia",
              "TomoChain",
              "Stox",
              "StormX",
              "Measurable Data Token",
              "LTO Network",
              "Loopring",
              "Dogecoin",
              "Neo",
              "Hedera",
              "Storj",
              "Compound Coin",
              "COTI",
              "DigiByte",
              "Groestlcoin",
              "Synthetix",
              "Ren",
              "Swipe",
              "Maker",
              "Dai",
              "Travala.com",
              "Balancer",
              "Serum",
              "Elrond",
              "Contentos",
              "New BitShares",
              "Aion",
              "Polkadot",
              "yearn.finance",
              "IoTeX",
              "The Sandbox",
              "UNICORN Token",
              "Streamr",
              "PAX Gold",
              "Cream Finance",
              "Swerve",
              "UMA",
              "DIA",
              "Kusama",
              "DFI.Money",
              "bZx Protocol",
              "Tellor",
              "Ambire AdEx",
              "Aave",
              "Filecoin",
              "Curve DAO Token",
              "NEAR Protocol",
              "Helium",
              "Avalanche",
              "Orchid",
              "Dock",
              "Dusk Network",
              "Waltonchain",
              "PERL.eco",
              "Stratis",
              "Injective Protocol",
              "VeChain",
              "Metal",
              "Frontier",
              "Golem",
              "SushiSwap",
              "Firo",
              "DeXe",
              "Golden Ratio Token",
              "Bancor",
              "Reserve Rights",
              "1inch Network",
              "Luna Coin",
              "UniLend",
              "Pundi X[new]",
              "Nervos Network",
              "Viberate",
              "Gifto",
              "Toko Token",
              "Ethereum Push Notification Service",
              "Civic",
              "PancakeSwap",
              "EasyFi",
              "Ark",
              "Komodo",
              "Solana",
              "SHIBA INU",
              "iExec RLC",
              "Reef",
              "Internet Computer",
              "Ontology",
              "Penta",
              "Venus",
              "VITE",
              "Decred",
              "Mdex",
              "Phala Network",
              "THORChain (ERC20)",
              "MIR COIN",
              "NKN",
              "district0x",
              "Keep Network",
              "Axie Infinity",
              "Alpha Finance Lab",
              "MyNeighborAlice",
              "Klaytn",
              "eCash",
              "Perpetual Protocol",
              "Quant",
              "Flow",
              "Voyager Token",
              "Arweave",
              "Raydium",
              "DODO",
              "Mina",
              "Clover Finance",
              "BakeryToken",
              "Alpaca Finance",
              "USDP Stablecoin",
              "Gnosis",
              "Alien Worlds",
              "Audius",
              "SKALE Network",
              "MOBOX",
              "Dego Finance",
              "Gala",
              "NFTX Hashmasks Index",
              "MetaFace",
              "Marlin",
              "Illuvium",
              "Enzyme",
              "dYdX",
              "Conflux",
              "Standard Tokenization Protocol",
              "Radicle",
              "Burger Swap",
              "Bitcoin Diamond",
              "Oasis Network",
              "Secret",
              "Syscoin",
              "Adventure Gold",
              "KEY",
              "SuperRare",
              "Sun (New)",
              "Smooth Love Potion",
              "NuCypher",
              "Bounce Token",
              "Automata Network",
              "Ocean Protocol",
              "SuperCoin",
              "Beta Finance",
              "Cocos-BCX",
              "WAX",
              "Bitcoin Cash SV",
              "MIOTA",
              "GXChain"
            ],
            "_view_name": "DropdownView",
            "style": "IPY_MODEL_18a6180a28084327bc33050da48d4a78",
            "_dom_classes": [],
            "description": "Select Coin: ",
            "_model_name": "DropdownModel",
            "index": 62,
            "_view_module": "@jupyter-widgets/controls",
            "_model_module_version": "1.5.0",
            "_view_count": null,
            "disabled": false,
            "_view_module_version": "1.5.0",
            "description_tooltip": null,
            "_model_module": "@jupyter-widgets/controls",
            "layout": "IPY_MODEL_ec0b219c10c7475185359fa0474dbf01"
          }
        },
        "18a6180a28084327bc33050da48d4a78": {
          "model_module": "@jupyter-widgets/controls",
          "model_name": "DescriptionStyleModel",
          "model_module_version": "1.5.0",
          "state": {
            "_view_name": "StyleView",
            "_model_name": "DescriptionStyleModel",
            "description_width": "",
            "_view_module": "@jupyter-widgets/base",
            "_model_module_version": "1.5.0",
            "_view_count": null,
            "_view_module_version": "1.2.0",
            "_model_module": "@jupyter-widgets/controls"
          }
        },
        "ec0b219c10c7475185359fa0474dbf01": {
          "model_module": "@jupyter-widgets/base",
          "model_name": "LayoutModel",
          "model_module_version": "1.2.0",
          "state": {
            "_view_name": "LayoutView",
            "grid_template_rows": null,
            "right": null,
            "justify_content": null,
            "_view_module": "@jupyter-widgets/base",
            "overflow": null,
            "_model_module_version": "1.2.0",
            "_view_count": null,
            "flex_flow": null,
            "width": null,
            "min_width": null,
            "border": null,
            "align_items": null,
            "bottom": null,
            "_model_module": "@jupyter-widgets/base",
            "top": null,
            "grid_column": null,
            "overflow_y": null,
            "overflow_x": null,
            "grid_auto_flow": null,
            "grid_area": null,
            "grid_template_columns": null,
            "flex": null,
            "_model_name": "LayoutModel",
            "justify_items": null,
            "grid_row": null,
            "max_height": null,
            "align_content": null,
            "visibility": null,
            "align_self": null,
            "height": null,
            "min_height": null,
            "padding": null,
            "grid_auto_rows": null,
            "grid_gap": null,
            "max_width": null,
            "order": null,
            "_view_module_version": "1.2.0",
            "grid_template_areas": null,
            "object_position": null,
            "object_fit": null,
            "grid_auto_columns": null,
            "margin": null,
            "display": null,
            "left": null
          }
        },
        "6cde03371c0d4e5f9bdd31876bfd57d8": {
          "model_module": "@jupyter-widgets/controls",
          "model_name": "DropdownModel",
          "model_module_version": "1.5.0",
          "state": {
            "_options_labels": [
              "Moving Average",
              "MACD",
              "RSI",
              "Stochastic RSI",
              "Standard Deviation"
            ],
            "_view_name": "DropdownView",
            "style": "IPY_MODEL_44ade3fe3c624158b0d90048e2fc6035",
            "_dom_classes": [],
            "description": "Select TTI: ",
            "_model_name": "DropdownModel",
            "index": 0,
            "_view_module": "@jupyter-widgets/controls",
            "_model_module_version": "1.5.0",
            "_view_count": null,
            "disabled": false,
            "_view_module_version": "1.5.0",
            "description_tooltip": null,
            "_model_module": "@jupyter-widgets/controls",
            "layout": "IPY_MODEL_c122dd8b1e0e40acb471420ef7868fa2"
          }
        },
        "44ade3fe3c624158b0d90048e2fc6035": {
          "model_module": "@jupyter-widgets/controls",
          "model_name": "DescriptionStyleModel",
          "model_module_version": "1.5.0",
          "state": {
            "_view_name": "StyleView",
            "_model_name": "DescriptionStyleModel",
            "description_width": "",
            "_view_module": "@jupyter-widgets/base",
            "_model_module_version": "1.5.0",
            "_view_count": null,
            "_view_module_version": "1.2.0",
            "_model_module": "@jupyter-widgets/controls"
          }
        },
        "c122dd8b1e0e40acb471420ef7868fa2": {
          "model_module": "@jupyter-widgets/base",
          "model_name": "LayoutModel",
          "model_module_version": "1.2.0",
          "state": {
            "_view_name": "LayoutView",
            "grid_template_rows": null,
            "right": null,
            "justify_content": null,
            "_view_module": "@jupyter-widgets/base",
            "overflow": null,
            "_model_module_version": "1.2.0",
            "_view_count": null,
            "flex_flow": null,
            "width": null,
            "min_width": null,
            "border": null,
            "align_items": null,
            "bottom": null,
            "_model_module": "@jupyter-widgets/base",
            "top": null,
            "grid_column": null,
            "overflow_y": null,
            "overflow_x": null,
            "grid_auto_flow": null,
            "grid_area": null,
            "grid_template_columns": null,
            "flex": null,
            "_model_name": "LayoutModel",
            "justify_items": null,
            "grid_row": null,
            "max_height": null,
            "align_content": null,
            "visibility": null,
            "align_self": null,
            "height": null,
            "min_height": null,
            "padding": null,
            "grid_auto_rows": null,
            "grid_gap": null,
            "max_width": null,
            "order": null,
            "_view_module_version": "1.2.0",
            "grid_template_areas": null,
            "object_position": null,
            "object_fit": null,
            "grid_auto_columns": null,
            "margin": null,
            "display": null,
            "left": null
          }
        }
      }
    }
  },
  "cells": [
    {
      "cell_type": "code",
      "metadata": {
        "colab": {
          "base_uri": "https://localhost:8080/"
        },
        "id": "RYEI9WInaNhf",
        "outputId": "2e2c6dbd-c783-48ee-efe4-90415c314d1d",
        "cellView": "form"
      },
      "source": [
        "#@title Configuration\n",
        "from google.colab import drive\n",
        "import os\n",
        "drive.mount('/content/drive')\n",
        "!apt-get install openjdk-8-jdk-headless -qq > /dev/null\n",
        "!tar xf /content/drive/Shareddrives/DA231-2021-Aug-Public/spark-3.0.3-bin-hadoop2.7.tgz\n",
        "!pip install -q findspark\n",
        "os.environ[\"JAVA_HOME\"] = \"/usr/lib/jvm/java-8-openjdk-amd64\"\n",
        "os.environ[\"SPARK_HOME\"] = \"/content/spark-3.0.3-bin-hadoop2.7\"\n"
      ],
      "execution_count": null,
      "outputs": [
        {
          "output_type": "stream",
          "name": "stdout",
          "text": [
            "Mounted at /content/drive\n"
          ]
        }
      ]
    },
    {
      "cell_type": "code",
      "metadata": {
        "colab": {
          "base_uri": "https://localhost:8080/",
          "height": 219
        },
        "id": "AQvjYyzJa7Cw",
        "outputId": "c692d74b-6ad6-439e-93f6-f172f9c31e96"
      },
      "source": [
        "#@title Initialization { display-mode: \"both\" }\n",
        "import findspark\n",
        "findspark.init()\n",
        "findspark.find()\n",
        "from pyspark.sql import SparkSession\n",
        "spark = SparkSession.builder\\\n",
        "         .master(\"local\")\\\n",
        "         .appName(\"Colab\")\\\n",
        "         .config('spark.ui.port', '4050')\\\n",
        "         .getOrCreate()\n",
        "spark"
      ],
      "execution_count": null,
      "outputs": [
        {
          "output_type": "execute_result",
          "data": {
            "text/html": [
              "\n",
              "            <div>\n",
              "                <p><b>SparkSession - in-memory</b></p>\n",
              "                \n",
              "        <div>\n",
              "            <p><b>SparkContext</b></p>\n",
              "\n",
              "            <p><a href=\"http://d09d5bfb8c5f:4050\">Spark UI</a></p>\n",
              "\n",
              "            <dl>\n",
              "              <dt>Version</dt>\n",
              "                <dd><code>v3.0.3</code></dd>\n",
              "              <dt>Master</dt>\n",
              "                <dd><code>local</code></dd>\n",
              "              <dt>AppName</dt>\n",
              "                <dd><code>Colab</code></dd>\n",
              "            </dl>\n",
              "        </div>\n",
              "        \n",
              "            </div>\n",
              "        "
            ],
            "text/plain": [
              "<pyspark.sql.session.SparkSession at 0x7fa53b743a90>"
            ]
          },
          "metadata": {},
          "execution_count": 2
        }
      ]
    },
    {
      "cell_type": "code",
      "metadata": {
        "id": "LdSo3YnBx7VA",
        "cellView": "form"
      },
      "source": [
        "#@title Common Imports\n",
        "from pyspark import SparkContext, SparkConf\n",
        "import sys\n",
        "import json\n",
        "import pyspark.sql.functions as F\n",
        "sc = SparkContext.getOrCreate()\n",
        "from pyspark.sql.window import Window\n",
        "import matplotlib.pyplot as plt\n",
        "import numpy as np\n",
        "\n",
        "from ipywidgets import widgets\n",
        "from IPython.display import display\n",
        "\n",
        "from math import sqrt\n",
        "from os.path import exists"
      ],
      "execution_count": null,
      "outputs": []
    },
    {
      "cell_type": "markdown",
      "metadata": {
        "id": "3Buw8_851bJc"
      },
      "source": [
        "File path, Folder ID, Constants and other related information"
      ]
    },
    {
      "cell_type": "code",
      "metadata": {
        "id": "z81gqu7Sa-y3",
        "cellView": "form"
      },
      "source": [
        "#@title File path, Folder ID, Constants\n",
        "drivepath = \"/content/drive/Shareddrives/ProjectSharedDrive/wazirxCSVData\"\n",
        "driveDAILYpath = \"/content/drive/Shareddrives/ProjectSharedDrive/wazirxCSVCumulative\"\n"
      ],
      "execution_count": null,
      "outputs": []
    },
    {
      "cell_type": "code",
      "metadata": {
        "id": "nqUYkA311SaZ",
        "cellView": "form"
      },
      "source": [
        "#@title Load Coin names from the tickers file\n",
        "#tickers = open(drivepath+\"/tickers\" ,\"r\")\n",
        "#tfile = json.load(tickers)\n",
        "#tickers.close()\n",
        "\n",
        "#coins = list(tfile.keys())\n",
        "#USDTcoins = [s for s in coins if \"usdt\" in s]\n",
        "\n",
        "fileRef = open(driveDAILYpath+\"/USDTCoinName.txt\" ,\"r\")\n",
        "coinName = []\n",
        "coinCode = []\n",
        "for lines in fileRef:\n",
        "  name = eval(lines[:-1])\n",
        "  coinName.append(name[1])\n",
        "  coinCode.append(name)"
      ],
      "execution_count": null,
      "outputs": []
    },
    {
      "cell_type": "markdown",
      "metadata": {
        "id": "kPGXdoae198A"
      },
      "source": [
        "## **Interactive Display for Trend Trading Indicators**\n",
        "\n",
        "Choose the coin to start processing"
      ]
    },
    {
      "cell_type": "code",
      "metadata": {
        "colab": {
          "base_uri": "https://localhost:8080/",
          "height": 49,
          "referenced_widgets": [
            "ab904dba822d44c88e57db9c5cbdd324",
            "18a6180a28084327bc33050da48d4a78",
            "ec0b219c10c7475185359fa0474dbf01"
          ]
        },
        "id": "vUJYqltD2ZHT",
        "outputId": "e14dec40-c712-4b34-9593-9d03d4bea9bf",
        "cellView": "form"
      },
      "source": [
        "#@title Select the Coin\n",
        "TTIVal = [\"Moving Average\", \"MACD\", \"RSI\", \"Stochastic RSI\", \"Standard Deviation\"]\n",
        "\n",
        "coin = widgets.Dropdown(\n",
        "    options=coinName,\n",
        "    value=coinName[0],\n",
        "    description='Select Coin: ',\n",
        "    disabled=False,\n",
        ")\n",
        "\n",
        "display(coin)"
      ],
      "execution_count": 13,
      "outputs": [
        {
          "output_type": "display_data",
          "data": {
            "application/vnd.jupyter.widget-view+json": {
              "model_id": "ab904dba822d44c88e57db9c5cbdd324",
              "version_minor": 0,
              "version_major": 2
            },
            "text/plain": [
              "Dropdown(description='Select Coin: ', options=('Tether', 'Bitcoin', 'TRON', 'XRP', 'EOS', 'Ethereum', 'ICON', …"
            ]
          },
          "metadata": {}
        }
      ]
    },
    {
      "cell_type": "markdown",
      "metadata": {
        "id": "x7QFnQNP4iwK"
      },
      "source": [
        "Processing the selected coin. Run the next columns for output"
      ]
    },
    {
      "cell_type": "code",
      "metadata": {
        "id": "3eGi2qP01Qkq",
        "cellView": "form"
      },
      "source": [
        "#@title Loading Coin Details\n",
        "coinChosen = [item for item in coinCode if item[1] == coin.value]\n",
        "coinname = coin.value\n",
        "coinfile = driveDAILYpath+\"/\"+coinChosen[0][0]+\"DAILY.csv\"\n",
        "\n",
        "\n",
        "p0 = spark.read.option(\"header\",True).option(\"inferSchema\",True).csv(coinfile)\n",
        "p2 = p0.drop(\"_c0\")\n",
        "window = Window.orderBy(\"Date\")"
      ],
      "execution_count": 32,
      "outputs": []
    },
    {
      "cell_type": "code",
      "source": [
        "#@title TTI Calculations\n",
        "def calcSD(path):\n",
        "  coinfile = sc.textFile(path)\n",
        "\n",
        "  answer = [tuple((coinname, 0))]\n",
        "\n",
        "  # Convert to Key-Value RDD with city:list of all cols\n",
        "  coinRDD = coinfile.map(lambda l : (l.split(\",\")[1], l.split(\",\"))).filter(lambda kv : kv[1][1] != \"Date\").cache()\n",
        "   \n",
        "  \n",
        "  # Map values and take only 'close' Price column\n",
        "  closeRDD = coinRDD.map(lambda l: (l[0][:7], float(l[1][5])))\n",
        "\n",
        "  aggRDD = closeRDD.aggregateByKey((0,0), lambda a,b: (a[0] + b,    a[1] + 1),\n",
        "                                    lambda a,b: (a[0] + b[0], a[1] + b[1]))\n",
        "  \n",
        "\n",
        "  # Calculate mean and store it in meanRdd\n",
        "  meanRDD = aggRDD.mapValues(lambda v: v[0]/v[1]).sortBy(lambda l: l[0])\n",
        "\n",
        "  # Join closing Price Rdd with Mean Rdd for SD calculation\n",
        "  joinRDD = closeRDD.join(meanRDD)\n",
        "\n",
        "  # Map Xi and X_Avg values to (Xi - X_Avg)^2\n",
        "  sqRDD = joinRDD.mapValues(lambda l: (l[0]-l[1]) *(l[0]-l[1]))\n",
        "\n",
        "  sqSumRdd = sqRDD.aggregateByKey((0,0), lambda a,b: (a[0] + b,    a[1] + 1),\n",
        "                                    lambda a,b: (a[0] + b[0], a[1] + b[1]))\n",
        "\n",
        "  # Calculate Sqrt of Mean of Sum^2 and Calculate SD\n",
        "  stdRdd = sqSumRdd.mapValues(lambda v: sqrt(v[0]/v[1])).sortBy(lambda l: l[0])  \n",
        "  answer = stdRdd\n",
        "\n",
        "  return answer\n"
      ],
      "metadata": {
        "id": "zUdqeyJ9n3eo",
        "cellView": "form"
      },
      "execution_count": 33,
      "outputs": []
    },
    {
      "cell_type": "code",
      "metadata": {
        "id": "aUFWbR-AzdvQ",
        "cellView": "form"
      },
      "source": [
        "#@title TTI Calculations\n",
        "#RSI\n",
        "p3 = p2.withColumn(\"Diff\", F.col(\"Close\") - F.lag(F.col(\"Close\"), 1, 0)\\\n",
        "                   .over(window)).drop(\"Close\") \n",
        "p4 = p3.withColumn(\"Gain\",F.when((F.col(\"Diff\")>0),F.col(\"Diff\")).otherwise(0))\\\n",
        "      .withColumn(\"Loss\",F.when((F.col(\"Diff\")<0),(F.col(\"Diff\")*-1)).otherwise(0)).drop(\"Diff\")\n",
        "\n",
        "w = (Window.orderBy(F.col(\"Date\")).rowsBetween(-14, 0))\n",
        "p5 = p4.withColumn('rolling_gain', F.avg(\"Gain\").over(w))\\\n",
        "      .withColumn('rolling_loss', F.avg(\"Loss\").over(w))\\\n",
        "      .drop(\"Gain\").drop(\"Loss\")\n",
        "p6 = p5.withColumn('RSI',F.expr(\"100-(100/(1+(rolling_gain/rolling_loss)))\"))\\\n",
        "      .drop(\"rolling_gain\").drop(\"rolling_loss\").fillna(0)\n",
        "RSI = p6.select(\"Date\", \"RSI\")\n",
        "#RSI.show()\n",
        "\n",
        "\n",
        "#moving average\n",
        "w1 = (Window.orderBy(F.col(\"Date\")).rowsBetween(-50, 0))\n",
        "p7 = p2.withColumn('Moving_average', F.avg(\"Close\").over(w1))\n",
        "MovingAvg = p7.select(\"Date\", \"Moving_average\")\n",
        "#MovingAvg.show()\n",
        "\n",
        "\n",
        "\n",
        "#schoastic RSI\n",
        "p8 = p6.withColumn('Min_RSI', F.min(\"RSI\").over(w))\\\n",
        "        .withColumn('Max_RSI', F.max(\"RSI\").over(w))\n",
        "p9 = p8.withColumn('SRSI',F.expr(\"(RSI-Min_RSI)/(Max_RSI-Min_RSI)\"))\n",
        "SRSI = p9.select(\"Date\", \"SRSI\")\n",
        "#SRSI.show()\n",
        "\n",
        "\n",
        "#MACD\n",
        "w2 = (Window.orderBy(F.col(\"Date\")).rowsBetween(-12, 0))\n",
        "w3 = (Window.orderBy(F.col(\"Date\")).rowsBetween(-26, 0))\n",
        "w4 = (Window.orderBy(F.col(\"Date\")).rowsBetween(-9, 0))\n",
        "p10 = p7.withColumn('Exp_Mov_avg_12', F.avg(\"Moving_average\").over(w2))\\\n",
        "        .withColumn('Exp_Mov_avg_26', F.avg(\"Moving_average\").over(w3))\n",
        "p11 = p10.withColumn('Signal_line', F.expr(\"Exp_Mov_avg_12-Exp_Mov_avg_26\"))\n",
        "p12 = p11.withColumn('MACD', F.avg(\"Signal_line\").over(w4))\n",
        "MACD = p12.select(\"Date\", \"MACD\")\n",
        "#MACD.show()\n",
        "\n",
        "SD = calcSD(coinfile)"
      ],
      "execution_count": 34,
      "outputs": []
    },
    {
      "cell_type": "code",
      "metadata": {
        "colab": {
          "base_uri": "https://localhost:8080/",
          "height": 49,
          "referenced_widgets": [
            "6cde03371c0d4e5f9bdd31876bfd57d8",
            "44ade3fe3c624158b0d90048e2fc6035",
            "c122dd8b1e0e40acb471420ef7868fa2"
          ]
        },
        "id": "MXynGYk9ChAF",
        "outputId": "8e432b79-3b53-4076-b6fb-7b657b06a530",
        "cellView": "form"
      },
      "source": [
        "#@title Select TTI\n",
        "TTI = widgets.Dropdown(\n",
        "    options=TTIVal,\n",
        "    value=TTIVal[0],\n",
        "    description='Select TTI: ',\n",
        "    disabled=False,\n",
        ")\n",
        "display(TTI)"
      ],
      "execution_count": 35,
      "outputs": [
        {
          "output_type": "display_data",
          "data": {
            "application/vnd.jupyter.widget-view+json": {
              "model_id": "6cde03371c0d4e5f9bdd31876bfd57d8",
              "version_minor": 0,
              "version_major": 2
            },
            "text/plain": [
              "Dropdown(description='Select TTI: ', options=('Moving Average', 'MACD', 'RSI', 'Stochastic RSI', 'Standard Dev…"
            ]
          },
          "metadata": {}
        }
      ]
    },
    {
      "cell_type": "markdown",
      "metadata": {
        "id": "ARHE2wD5J7nc"
      },
      "source": [
        "## **Interactive Display for Trend Trading Indicators**\n"
      ]
    },
    {
      "cell_type": "code",
      "metadata": {
        "colab": {
          "base_uri": "https://localhost:8080/",
          "height": 336
        },
        "id": "lIA7Ex4B5qga",
        "outputId": "34bc8724-47b0-4524-ffc4-8ca7bbe45605"
      },
      "source": [
        "#@title Create the Graph\n",
        "\n",
        "if TTIVal[4] == TTI.value:\n",
        "  TTIselected = SD\n",
        "  xval = TTIselected.map(lambda x: x[0]).collect()\n",
        "  yval = TTIselected.map(lambda x: x[1]).collect()\n",
        "  #plt.xticks(xval[::10])\n",
        "else:\n",
        "  if TTIVal[0] == TTI.value:\n",
        "    TTIselected = MovingAvg\n",
        "  elif  TTIVal[1] == TTI.value:\n",
        "    TTIselected = MACD\n",
        "  elif  TTIVal[2] == TTI.value:\n",
        "    TTIselected = RSI\n",
        "  elif  TTIVal[3] == TTI.value:\n",
        "    TTIselected = SRSI\n",
        "\n",
        "  xval = TTIselected.rdd.map(lambda x: x[0][:7]).collect()\n",
        "  yval = TTIselected.rdd.map(lambda x: x[1]).collect()\n",
        " \n",
        "  # f = plt.figure()\n",
        "  # f.set_figwidth(200)\n",
        "  # f.set_figheight(10)\n",
        "plt.plot(xval, yval, label = TTI.value) \n",
        "plt.ylabel(TTI.value)\n",
        "\n",
        "if TTIVal[4] == TTI.value:\n",
        "  plt.xticks(xval[::6])\n",
        "else:\n",
        "  plt.xticks(xval[::200])\n",
        "\n",
        "plt.legend(loc=\"upper right\")\n",
        "plt.title(\"TTI - \"+ coinname)\n",
        "plt.rcParams[\"figure.figsize\"] = (15,5)\n",
        "\n",
        "plt.show()"
      ],
      "execution_count": 41,
      "outputs": [
        {
          "output_type": "display_data",
          "data": {
            "image/png": "[encoded data removed]",
            "text/plain": [
              "<Figure size 1080x360 with 1 Axes>"
            ]
          },
          "metadata": {
            "needs_background": "light"
          }
        }
      ]
    },
    {
      "cell_type": "code",
      "metadata": {
        "id": "NHYC5YXiEtTi"
      },
      "source": [
        ""
      ],
      "execution_count": null,
      "outputs": []
    }
  ]
}