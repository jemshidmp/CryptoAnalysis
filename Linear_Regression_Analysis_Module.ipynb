{
  "nbformat": 4,
  "nbformat_minor": 0,
  "metadata": {
    "colab": {
      "name": " Linear_Regression_Analysis_Module.ipynb",
      "provenance": [],
      "collapsed_sections": []
    },
    "kernelspec": {
      "name": "python3",
      "display_name": "Python 3"
    },
    "language_info": {
      "name": "python"
    },
    "widgets": {
      "application/vnd.jupyter.widget-state+json": {
        "23aada754138458897bdeb3199ded7b8": {
          "model_module": "@jupyter-widgets/controls",
          "model_name": "DropdownModel",
          "model_module_version": "1.5.0",
          "state": {
            "_options_labels": [
              "TRON",
              "EOS",
              "ICON",
              "Litecoin",
              "TrueUSD",
              "Hydro Protocol",
              "Basic Attention Token",
              "Dash",
              "Nucleus Vision",
              "QuarkChain",
              "Zilliqa",
              "0x",
              "Bitcoin Cash",
              "OMG Network",
              "FarmPoly",
              "Dent",
              "IOST",
              "FUNToken",
              "Status",
              "THETA",
              "Request",
              "Stellar",
              "Tezos",
              "BitTorrent",
              "Fetch.ai",
              "Theta Fuel",
              "Celer Network",
              "Polygon",
              "Ravencoin",
              "Monero",
              "Cosmos",
              "Algorand",
              "Chainlink",
              "Qtum",
              "Ethereum Classic",
              "Zcash",
              "Waves",
              "Fantom",
              "Enjin Coin",
              "Lisk",
              "Steem",
              "Verge",
              "Loom Network",
              "Decentraland",
              "Augur",
              "Bluzelle",
              "Nano",
              "Siacoin",
              "Bitcoin Gold",
              "NEM",
              "BitShares",
              "Ardor",
              "Nebulas",
              "WINkLink",
              "Chiliz",
              "WazirX",
              "Kava",
              "Ankr",
              "Binance USD",
              "BigONE Token",
              "Origin Protocol",
              "Hive",
              "FTX Token",
              "Band Protocol",
              "JUST",
              "Cartesi",
              "Chromia",
              "TomoChain",
              "Stox",
              "StormX",
              "Measurable Data Token",
              "LTO Network",
              "Loopring",
              "Neo",
              "Hedera",
              "Storj",
              "Compound Coin",
              "COTI",
              "DigiByte",
              "Groestlcoin",
              "Synthetix",
              "Ren",
              "Swipe",
              "Maker",
              "Dai",
              "Travala.com",
              "Balancer",
              "Serum",
              "Elrond",
              "Contentos",
              "New BitShares",
              "Aion",
              "yearn.finance",
              "IoTeX",
              "The Sandbox",
              "UNICORN Token",
              "Streamr",
              "PAX Gold",
              "Cream Finance",
              "Swerve",
              "UMA",
              "DIA",
              "Kusama",
              "DFI.Money",
              "bZx Protocol",
              "Tellor",
              "Ambire AdEx",
              "Aave",
              "Filecoin",
              "Curve DAO Token",
              "NEAR Protocol",
              "Helium",
              "Avalanche",
              "Orchid",
              "Dock",
              "Dusk Network",
              "Waltonchain",
              "PERL.eco",
              "Stratis",
              "Injective Protocol",
              "VeChain",
              "Metal",
              "Frontier",
              "Golem",
              "SushiSwap",
              "Firo",
              "DeXe",
              "Golden Ratio Token",
              "Bancor",
              "Reserve Rights",
              "1inch Network",
              "Luna Coin",
              "UniLend",
              "Pundi X[new]",
              "Nervos Network",
              "Viberate",
              "Gifto",
              "Toko Token",
              "Ethereum Push Notification Service",
              "Civic",
              "PancakeSwap",
              "EasyFi",
              "Ark",
              "Komodo",
              "SHIBA INU",
              "iExec RLC",
              "Reef",
              "Internet Computer",
              "Ontology",
              "Penta",
              "Venus",
              "VITE",
              "Decred",
              "Mdex",
              "Phala Network",
              "THORChain (ERC20)",
              "MIR COIN",
              "NKN",
              "district0x",
              "Keep Network",
              "Axie Infinity",
              "Alpha Finance Lab",
              "MyNeighborAlice",
              "Klaytn",
              "eCash",
              "Perpetual Protocol",
              "Quant",
              "Flow",
              "Voyager Token",
              "Arweave",
              "Raydium",
              "DODO",
              "Mina",
              "Clover Finance",
              "BakeryToken",
              "Alpaca Finance",
              "USDP Stablecoin",
              "Gnosis",
              "Alien Worlds",
              "Audius",
              "SKALE Network",
              "MOBOX",
              "Dego Finance",
              "Gala",
              "NFTX Hashmasks Index",
              "MetaFace",
              "Marlin",
              "Illuvium",
              "Enzyme",
              "dYdX",
              "Conflux",
              "Standard Tokenization Protocol",
              "Radicle",
              "Burger Swap",
              "Bitcoin Diamond",
              "Oasis Network",
              "Secret",
              "Syscoin",
              "Adventure Gold",
              "KEY",
              "SuperRare",
              "Sun (New)",
              "Smooth Love Potion",
              "NuCypher",
              "Bounce Token",
              "Automata Network",
              "Ocean Protocol",
              "SuperCoin",
              "Beta Finance",
              "Cocos-BCX",
              "WAX",
              "Bitcoin Cash SV",
              "MIOTA",
              "GXChain"
            ],
            "_view_name": "DropdownView",
            "style": "IPY_MODEL_7c4353850edc4ad8a0f2e95a347134e8",
            "_dom_classes": [],
            "description": "Select Coin: ",
            "_model_name": "DropdownModel",
            "index": 0,
            "_view_module": "@jupyter-widgets/controls",
            "_model_module_version": "1.5.0",
            "_view_count": null,
            "disabled": false,
            "_view_module_version": "1.5.0",
            "description_tooltip": null,
            "_model_module": "@jupyter-widgets/controls",
            "layout": "IPY_MODEL_e45938177d1c433ca30c975e7ed03965"
          }
        },
        "7c4353850edc4ad8a0f2e95a347134e8": {
          "model_module": "@jupyter-widgets/controls",
          "model_name": "DescriptionStyleModel",
          "model_module_version": "1.5.0",
          "state": {
            "_view_name": "StyleView",
            "_model_name": "DescriptionStyleModel",
            "description_width": "",
            "_view_module": "@jupyter-widgets/base",
            "_model_module_version": "1.5.0",
            "_view_count": null,
            "_view_module_version": "1.2.0",
            "_model_module": "@jupyter-widgets/controls"
          }
        },
        "e45938177d1c433ca30c975e7ed03965": {
          "model_module": "@jupyter-widgets/base",
          "model_name": "LayoutModel",
          "model_module_version": "1.2.0",
          "state": {
            "_view_name": "LayoutView",
            "grid_template_rows": null,
            "right": null,
            "justify_content": null,
            "_view_module": "@jupyter-widgets/base",
            "overflow": null,
            "_model_module_version": "1.2.0",
            "_view_count": null,
            "flex_flow": null,
            "width": null,
            "min_width": null,
            "border": null,
            "align_items": null,
            "bottom": null,
            "_model_module": "@jupyter-widgets/base",
            "top": null,
            "grid_column": null,
            "overflow_y": null,
            "overflow_x": null,
            "grid_auto_flow": null,
            "grid_area": null,
            "grid_template_columns": null,
            "flex": null,
            "_model_name": "LayoutModel",
            "justify_items": null,
            "grid_row": null,
            "max_height": null,
            "align_content": null,
            "visibility": null,
            "align_self": null,
            "height": null,
            "min_height": null,
            "padding": null,
            "grid_auto_rows": null,
            "grid_gap": null,
            "max_width": null,
            "order": null,
            "_view_module_version": "1.2.0",
            "grid_template_areas": null,
            "object_position": null,
            "object_fit": null,
            "grid_auto_columns": null,
            "margin": null,
            "display": null,
            "left": null
          }
        }
      }
    }
  },
  "cells": [
    {
      "cell_type": "code",
      "metadata": {
        "colab": {
          "base_uri": "https://localhost:8080/"
        },
        "id": "RYEI9WInaNhf",
        "outputId": "83b72ecd-7e8f-4706-d8e6-01af739e4dcf"
      },
      "source": [
        "#@title Configuration\n",
        "from google.colab import drive\n",
        "import os\n",
        "drive.mount('/content/drive')\n",
        "!apt-get install openjdk-8-jdk-headless -qq > /dev/null\n",
        "!tar xf /content/drive/Shareddrives/DA231-2021-Aug-Public/spark-3.0.3-bin-hadoop2.7.tgz\n",
        "!pip install -q findspark\n",
        "os.environ[\"JAVA_HOME\"] = \"/usr/lib/jvm/java-8-openjdk-amd64\"\n",
        "os.environ[\"SPARK_HOME\"] = \"/content/spark-3.0.3-bin-hadoop2.7\"\n"
      ],
      "execution_count": 1,
      "outputs": [
        {
          "output_type": "stream",
          "name": "stdout",
          "text": [
            "Mounted at /content/drive\n"
          ]
        }
      ]
    },
    {
      "cell_type": "code",
      "metadata": {
        "colab": {
          "base_uri": "https://localhost:8080/",
          "height": 219
        },
        "id": "AQvjYyzJa7Cw",
        "outputId": "125d831f-0d78-405e-c3ec-baadb3fdb624"
      },
      "source": [
        "#@title Initialization { display-mode: \"both\" }\n",
        "import findspark\n",
        "findspark.init()\n",
        "findspark.find()\n",
        "from pyspark.sql import SparkSession\n",
        "spark = SparkSession.builder\\\n",
        "         .master(\"local\")\\\n",
        "         .appName(\"Colab\")\\\n",
        "         .config('spark.ui.port', '4050')\\\n",
        "         .getOrCreate()\n",
        "spark"
      ],
      "execution_count": 2,
      "outputs": [
        {
          "output_type": "execute_result",
          "data": {
            "text/html": [
              "\n",
              "            <div>\n",
              "                <p><b>SparkSession - in-memory</b></p>\n",
              "                \n",
              "        <div>\n",
              "            <p><b>SparkContext</b></p>\n",
              "\n",
              "            <p><a href=\"http://0d3d5e4f7934:4050\">Spark UI</a></p>\n",
              "\n",
              "            <dl>\n",
              "              <dt>Version</dt>\n",
              "                <dd><code>v3.0.3</code></dd>\n",
              "              <dt>Master</dt>\n",
              "                <dd><code>local</code></dd>\n",
              "              <dt>AppName</dt>\n",
              "                <dd><code>Colab</code></dd>\n",
              "            </dl>\n",
              "        </div>\n",
              "        \n",
              "            </div>\n",
              "        "
            ],
            "text/plain": [
              "<pyspark.sql.session.SparkSession at 0x7f53961d1910>"
            ]
          },
          "metadata": {},
          "execution_count": 2
        }
      ]
    },
    {
      "cell_type": "code",
      "metadata": {
        "id": "LdSo3YnBx7VA"
      },
      "source": [
        "#@title Common Imports\n",
        "from pyspark import SparkContext, SparkConf\n",
        "import sys\n",
        "import json\n",
        "import pyspark.sql.functions as F\n",
        "sc = SparkContext.getOrCreate()\n",
        "from pyspark.sql.window import Window\n",
        "import matplotlib.pyplot as plt\n",
        "import numpy as np\n",
        "\n",
        "from ipywidgets import widgets\n",
        "from IPython.display import display\n",
        "\n",
        "from math import sqrt\n",
        "from os.path import exists\n",
        "\n",
        "from pyspark.ml import Pipeline\n",
        "from pyspark.ml.feature import VectorAssembler\n",
        "from pyspark.ml.regression import LinearRegression\n",
        "from pyspark.ml.evaluation import RegressionEvaluator\n",
        "from pyspark.ml.evaluation import Evaluator\n",
        "from pyspark.ml.stat import Correlation"
      ],
      "execution_count": 3,
      "outputs": []
    },
    {
      "cell_type": "markdown",
      "metadata": {
        "id": "3Buw8_851bJc"
      },
      "source": [
        "File path, Folder ID, Constants and other related information"
      ]
    },
    {
      "cell_type": "code",
      "metadata": {
        "id": "z81gqu7Sa-y3"
      },
      "source": [
        "#@title File path, Folder ID, Constants\n",
        "drivepath = \"/content/drive/Shareddrives/ProjectSharedDrive/wazirxCSVData\"\n",
        "driveDAILYpath = \"/content/drive/Shareddrives/ProjectSharedDrive/wazirxCSVCumulative\"\n",
        "cryptofile = \"/content/drive/Shareddrives/ProjectSharedDrive/top25_cryptocoins_list.jsonl\"\n"
      ],
      "execution_count": 4,
      "outputs": []
    },
    {
      "cell_type": "code",
      "metadata": {
        "id": "nqUYkA311SaZ"
      },
      "source": [
        "#@title Load Top 10 Coin Details\n",
        "fileRef = open(driveDAILYpath+\"/USDTCoinName.txt\" ,\"r\")\n",
        "coinName = []\n",
        "coinCode = []\n",
        "for lines in fileRef:\n",
        "  name = eval(lines[:-1])\n",
        "  coinName.append(name[1])\n",
        "  coinCode.append(name)\n",
        "\n",
        "_crypt_raw = spark.read.json(cryptofile)\n",
        "_crypt = _crypt_raw.withColumn(\"name\", F.col(\"name\")) \\\n",
        "          .withColumn(\"symbol\", F.col(\"symbol\")) \\\n",
        "          .withColumn(\"cmc_rank\", F.col(\"cmc_rank\")).orderBy(\"cmc_rank\")\n",
        "#_crypt.show()\n",
        "top10=[]\n",
        "j=0\n",
        "for i in _crypt.collect():\n",
        "   top10.append(i[1])\n",
        "   j+=1\n",
        "   if(j==10):\n",
        "     break"
      ],
      "execution_count": 5,
      "outputs": []
    },
    {
      "cell_type": "code",
      "source": [
        "#@title Non top 10 Coins collections\n",
        "\n",
        "fileRef = open(driveDAILYpath+\"/USDTCoinName.txt\" ,\"r\")\n",
        "coinName = []\n",
        "coinCode = []\n",
        "for lines in fileRef:\n",
        "  name = eval(lines[:-1])\n",
        "  coinName.append(name[1])\n",
        "  coinCode.append(name)\n",
        "\n",
        "#print(len(coinName))\n",
        "coinName = [x for x in coinName if x not in top10]"
      ],
      "metadata": {
        "id": "cgIJj6tn_sr_"
      },
      "execution_count": 6,
      "outputs": []
    },
    {
      "cell_type": "markdown",
      "metadata": {
        "id": "kPGXdoae198A"
      },
      "source": [
        "## **Interactive Display for Trend Trading Indicators**\n",
        "\n",
        "Choose the coin to start processing"
      ]
    },
    {
      "cell_type": "code",
      "metadata": {
        "colab": {
          "base_uri": "https://localhost:8080/",
          "height": 49,
          "referenced_widgets": [
            "23aada754138458897bdeb3199ded7b8",
            "7c4353850edc4ad8a0f2e95a347134e8",
            "e45938177d1c433ca30c975e7ed03965"
          ]
        },
        "id": "vUJYqltD2ZHT",
        "outputId": "5ead35cb-a7e3-4ea7-f30e-e88925b0cbbd"
      },
      "source": [
        "#@title Select the Coin\n",
        "#TTIVal = [\"Moving Average\", \"MACD\", \"RSI\", \"Stochastic RSI\", \"Standard Deviation\"]\n",
        "\n",
        "coin = widgets.Dropdown(\n",
        "    options=coinName,\n",
        "    value=coinName[0],\n",
        "    description='Select Coin: ',\n",
        "    disabled=False,\n",
        ")\n",
        "\n",
        "display(coin)"
      ],
      "execution_count": 7,
      "outputs": [
        {
          "output_type": "display_data",
          "data": {
            "application/vnd.jupyter.widget-view+json": {
              "model_id": "23aada754138458897bdeb3199ded7b8",
              "version_minor": 0,
              "version_major": 2
            },
            "text/plain": [
              "Dropdown(description='Select Coin: ', options=('TRON', 'EOS', 'ICON', 'Litecoin', 'TrueUSD', 'Hydro Protocol',…"
            ]
          },
          "metadata": {}
        }
      ]
    },
    {
      "cell_type": "markdown",
      "metadata": {
        "id": "x7QFnQNP4iwK"
      },
      "source": [
        "\n",
        "Processing the selected coin. Run the next columns for Linear Regression Model"
      ]
    },
    {
      "cell_type": "code",
      "source": [
        "#@title Perform the Linear Regression\n",
        "coinChosen = [item for item in coinCode if item[1] == coin.value]\n",
        "coinname = coin.value\n",
        "print(coinname)\n",
        "coinfile = driveDAILYpath+\"/\"+coinChosen[0][0]+\"DAILY.csv\"\n",
        "\n",
        "\n",
        "p0 = spark.read.option(\"header\",True).option(\"inferSchema\",True).csv(coinfile)\n",
        "p2 = p0.drop(\"_c0\").drop(\"Open\").drop(\"High\").drop(\"Volume\").drop(\"Low\")\n",
        "#p2.show()\n",
        "for i in top10:\n",
        "  coinChosen = [item for item in coinCode if item[1] == i]\n",
        "  coinname = i\n",
        "  #print(coinname)\n",
        "  coinfile = driveDAILYpath+\"/\"+coinChosen[0][0]+\"DAILY.csv\"\n",
        "  #print(coinfile)\n",
        "  #coinn = \"coindf\"+i\n",
        "  coinn = spark.read.option(\"header\",True).option(\"inferSchema\",True).csv(coinfile)\n",
        "  topcoindf = coinn.drop(\"_c0\").drop(\"Open\").drop(\"High\").drop(\"Volume\").drop(\"Low\").withColumnRenamed(\"Close\",i).withColumnRenamed(\"Date\",\"top_date\")\n",
        "  #topcoin.show()\n",
        "  \n",
        "  p2 = p2.join(topcoindf,(p2.Date==topcoindf.top_date)).drop(\"top_date\")\n",
        "  #p2.show()\n",
        "#p2.show()\n",
        "class MAPEEvaluator(Evaluator): # TODO: Fix class inheritance\n",
        "  def __init__(self, predictionCol=\"prediction\", labelCol=\"label\"):\n",
        "    self.predictionCol = predictionCol\n",
        "    self.labelCol = labelCol\n",
        "\n",
        "  def _evaluate(self, dataset):\n",
        "    return evaluate(dataset, predictionCol, labelCol)\n",
        "\n",
        "  def evaluate(dataset, predictionCol=\"prediction\", labelCol=\"label\"): # FIXME\n",
        "    mapeDF = dataset.withColumn(\"ape\", (F.col(predictionCol)-F.col(labelCol)) / F.col(labelCol))  \\\n",
        "      .groupBy().avg(\"ape\").select(\"avg(ape)\").withColumnRenamed(\"avg(ape)\", \"mape\")\n",
        "    r = mapeDF.collect()\n",
        "    answer = [(row.mape) for row in r]\n",
        "    return abs(answer[0]) * 100\n",
        "\n",
        "inputTrainDF, inputTestDF = p2.randomSplit([0.8,0.2], seed=1947) \n",
        "vecAss = VectorAssembler(inputCols=top10,outputCol=\"features\")\n",
        "rf = LinearRegression(featuresCol=\"features\",labelCol=\"Close\")\n",
        "pipeline = Pipeline(stages=[vecAss,rf]) \n",
        "model = pipeline.fit(inputTrainDF)\n",
        "predDF = model.transform(inputTestDF)\n",
        "\n",
        "    # Create evaluator\n",
        "evaluator = RegressionEvaluator(predictionCol=\"prediction\", labelCol=\"Close\")\n",
        "r2 = evaluator.evaluate(predDF, {evaluator.metricName: \"r2\"})\n",
        "# evaluator = RegressionEvaluator(labelCol=\"label\", predictionCol=\"prediction\", metricName=\"rmse\")\n",
        "#rmse = evaluator.evaluate(predDF, {evaluator.metricName: \"mae\"})\n",
        "#print(rmse)\n",
        "mae = evaluator.evaluate(predDF, {evaluator.metricName: \"mae\"})\n",
        "rmse = evaluator.evaluate(predDF, {evaluator.metricName: \"rmse\"})\n",
        "mape = MAPEEvaluator.evaluate(predDF, predictionCol=\"prediction\", labelCol=\"Close\")\n",
        "print(f\"{r2}, {mape}, {mae}, {rmse}\")\n",
        "#p2.show()"
      ],
      "metadata": {
        "id": "zUdqeyJ9n3eo",
        "colab": {
          "base_uri": "https://localhost:8080/"
        },
        "outputId": "06823749-b77f-4436-fcae-9d126d8382fb"
      },
      "execution_count": 8,
      "outputs": [
        {
          "output_type": "stream",
          "name": "stdout",
          "text": [
            "TRON\n",
            "0.6100070312444255, 1.2288993990474208, 0.004671169083199578, 0.005840088539081689\n"
          ]
        }
      ]
    },
    {
      "cell_type": "code",
      "metadata": {
        "id": "NHYC5YXiEtTi"
      },
      "source": [
        ""
      ],
      "execution_count": null,
      "outputs": []
    }
  ]
}